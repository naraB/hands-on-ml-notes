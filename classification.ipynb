{
  "nbformat": 4,
  "nbformat_minor": 0,
  "metadata": {
    "colab": {
      "name": "classification.ipynb",
      "provenance": [],
      "collapsed_sections": [
        "lkDgPLge9BoU",
        "er-Ye_SGARtB",
        "uuSkU6SgBco_",
        "9NJ3oSnYEUNo",
        "8rLYeeJqIAkA",
        "u3ImGWGjc9ZG",
        "1DGjVCH1OAnY"
      ],
      "authorship_tag": "ABX9TyOkiqUEQmeseLLL9QWFHVh+",
      "include_colab_link": true
    },
    "kernelspec": {
      "name": "python3",
      "display_name": "Python 3"
    }
  },
  "cells": [
    {
      "cell_type": "markdown",
      "metadata": {
        "id": "view-in-github",
        "colab_type": "text"
      },
      "source": [
        "<a href=\"https://colab.research.google.com/github/naraB/handson-ml-notes/blob/master/classification.ipynb\" target=\"_parent\"><img src=\"https://colab.research.google.com/assets/colab-badge.svg\" alt=\"Open In Colab\"/></a>"
      ]
    },
    {
      "cell_type": "markdown",
      "metadata": {
        "id": "EYR0aG7W1rsy",
        "colab_type": "text"
      },
      "source": [
        "# Classification"
      ]
    },
    {
      "cell_type": "code",
      "metadata": {
        "id": "VPCy7XMxAMhg",
        "colab_type": "code",
        "colab": {}
      },
      "source": [
        "import numpy as np"
      ],
      "execution_count": 0,
      "outputs": []
    },
    {
      "cell_type": "markdown",
      "metadata": {
        "id": "lkDgPLge9BoU",
        "colab_type": "text"
      },
      "source": [
        "## Downloading the dataset"
      ]
    },
    {
      "cell_type": "code",
      "metadata": {
        "id": "sChauhkH9SOS",
        "colab_type": "code",
        "outputId": "0c161697-e850-44db-a255-3ef7c9502f55",
        "colab": {
          "base_uri": "https://localhost:8080/",
          "height": 0
        }
      },
      "source": [
        "from sklearn.datasets import fetch_openml\n",
        "mnist = fetch_openml('mnist_784', version=1)\n",
        "mnist.keys()"
      ],
      "execution_count": 30,
      "outputs": [
        {
          "output_type": "execute_result",
          "data": {
            "text/plain": [
              "dict_keys(['data', 'target', 'frame', 'feature_names', 'target_names', 'DESCR', 'details', 'categories', 'url'])"
            ]
          },
          "metadata": {
            "tags": []
          },
          "execution_count": 30
        }
      ]
    },
    {
      "cell_type": "markdown",
      "metadata": {
        "id": "UT_u_YBF9le2",
        "colab_type": "text"
      },
      "source": [
        "Datasets loaded by Scikit-Learn generally have a similar dictionary structure: \n",
        "\n",
        "* *DESCR* key describing the dataset\n",
        "* *data* key containing an array with one row per instance and one column per feature\n",
        "* *target* key containing an array with labels"
      ]
    },
    {
      "cell_type": "code",
      "metadata": {
        "id": "fs2JMtJk9729",
        "colab_type": "code",
        "outputId": "8da9af0c-f132-4fd7-f019-0800bebae07d",
        "colab": {
          "base_uri": "https://localhost:8080/",
          "height": 0
        }
      },
      "source": [
        "X,y = mnist['data'], mnist['target']\n",
        "print('X shape', X.shape)\n",
        "print('y shape', y.shape)"
      ],
      "execution_count": 31,
      "outputs": [
        {
          "output_type": "stream",
          "text": [
            "X shape (70000, 784)\n",
            "y shape (70000,)\n"
          ],
          "name": "stdout"
        }
      ]
    },
    {
      "cell_type": "markdown",
      "metadata": {
        "id": "OvWFx80q-L5s",
        "colab_type": "text"
      },
      "source": [
        "There are 70,000 images, and each image has 784 features. This is because each image is 28 * 28 pixels, and each feature simply represents one pixel's instensity, from 0 (white) to 255 (black). Lets take apeek at one digit from the dataset. All we need to do is grab an instance's feature vector, reshapre it to a 28 * 28 array, and display it using Matplotlib's imhsow() function:"
      ]
    },
    {
      "cell_type": "code",
      "metadata": {
        "id": "y2PoIlda_Nhh",
        "colab_type": "code",
        "outputId": "bd90fb7b-c962-4fcf-f69e-be4ce4f0644f",
        "colab": {
          "base_uri": "https://localhost:8080/",
          "height": 0
        }
      },
      "source": [
        "import matplotlib as mpl\n",
        "import matplotlib.pyplot as plt\n",
        "\n",
        "some_digit = X[0]\n",
        "print(some_digit.shape)\n",
        "some_digit_image = some_digit.reshape(28, 28)\n",
        "plt.imshow(some_digit_image, cmap=\"binary\")\n",
        "plt.axis(\"off\")\n",
        "plt.show()"
      ],
      "execution_count": 32,
      "outputs": [
        {
          "output_type": "stream",
          "text": [
            "(784,)\n"
          ],
          "name": "stdout"
        },
        {
          "output_type": "display_data",
          "data": {
            "image/png": "[encoded data removed]",
            "text/plain": [
              "<Figure size 432x288 with 1 Axes>"
            ]
          },
          "metadata": {
            "tags": []
          }
        }
      ]
    },
    {
      "cell_type": "code",
      "metadata": {
        "id": "VTEVu5sh_30r",
        "colab_type": "code",
        "outputId": "c1f070be-c89c-449a-899d-f90c9f0e6902",
        "colab": {
          "base_uri": "https://localhost:8080/",
          "height": 0
        }
      },
      "source": [
        "y[0]"
      ],
      "execution_count": 33,
      "outputs": [
        {
          "output_type": "execute_result",
          "data": {
            "text/plain": [
              "'5'"
            ]
          },
          "metadata": {
            "tags": []
          },
          "execution_count": 33
        }
      ]
    },
    {
      "cell_type": "markdown",
      "metadata": {
        "id": "IwFfbB4A_7xc",
        "colab_type": "text"
      },
      "source": [
        "Note that the label is a string. Most ML algorithms expect numbers, so lets cast y to integer:"
      ]
    },
    {
      "cell_type": "code",
      "metadata": {
        "id": "4x9hmS1mABfM",
        "colab_type": "code",
        "colab": {}
      },
      "source": [
        "y = y.astype(np.uint8)"
      ],
      "execution_count": 0,
      "outputs": []
    },
    {
      "cell_type": "markdown",
      "metadata": {
        "id": "er-Ye_SGARtB",
        "colab_type": "text"
      },
      "source": [
        "## Creating test and train set"
      ]
    },
    {
      "cell_type": "markdown",
      "metadata": {
        "id": "-o54XC5EAVh4",
        "colab_type": "text"
      },
      "source": [
        "The MNIST dataset is already split into a training set (the first 60,000 images) and test set (the last 10,000 images)"
      ]
    },
    {
      "cell_type": "code",
      "metadata": {
        "id": "_l8gMcJaAfEF",
        "colab_type": "code",
        "colab": {}
      },
      "source": [
        "X_train, X_test, y_train, y_test = X[:60000], X[60000:], y[:60000], y[60000:]"
      ],
      "execution_count": 0,
      "outputs": []
    },
    {
      "cell_type": "markdown",
      "metadata": {
        "id": "9LiYqk_3AtBQ",
        "colab_type": "text"
      },
      "source": [
        "The training data is already shuffled for us"
      ]
    },
    {
      "cell_type": "markdown",
      "metadata": {
        "id": "XFgyoDBBA3KW",
        "colab_type": "text"
      },
      "source": [
        "## Binary Classification"
      ]
    },
    {
      "cell_type": "markdown",
      "metadata": {
        "id": "NA0Km9muBiB-",
        "colab_type": "text"
      },
      "source": [
        "Let's simplify the problem for now and only tr to identify one digit - for example, te number 5. This \"5-detector\" will be an example of a binary classifier, capable of distinguishing between just two classes, 5 and not-5"
      ]
    },
    {
      "cell_type": "code",
      "metadata": {
        "id": "iVBzanVGByzc",
        "colab_type": "code",
        "colab": {}
      },
      "source": [
        "y_train_5 = (y_train == 5)\n",
        "y_test_5 = (y_test == 5)"
      ],
      "execution_count": 0,
      "outputs": []
    },
    {
      "cell_type": "markdown",
      "metadata": {
        "id": "uuSkU6SgBco_",
        "colab_type": "text"
      },
      "source": [
        "### Training"
      ]
    },
    {
      "cell_type": "markdown",
      "metadata": {
        "id": "VuVASG1HB33D",
        "colab_type": "text"
      },
      "source": [
        "Let's use a *Stochastic Gradient Descent* (SGD) classifier, Scikit-learn's SGDClassifier class.\n",
        "\n",
        "The classifier has the advantage of being capable of handling very large datasets efficiently. This is in part because SGD deals with training instances independently, one at a time (which also makes SGD well suited for online learning), as we will see later"
      ]
    },
    {
      "cell_type": "code",
      "metadata": {
        "id": "dcK_jNO-Clii",
        "colab_type": "code",
        "outputId": "d43c192f-9084-4291-c3e1-0e4cb6dc7af6",
        "colab": {
          "base_uri": "https://localhost:8080/",
          "height": 0
        }
      },
      "source": [
        "from sklearn.linear_model import SGDClassifier\n",
        "\n",
        "sgd_clf = SGDClassifier(random_state=42)\n",
        "sgd_clf.fit(X_train, y_train_5)"
      ],
      "execution_count": 37,
      "outputs": [
        {
          "output_type": "execute_result",
          "data": {
            "text/plain": [
              "SGDClassifier(alpha=0.0001, average=False, class_weight=None,\n",
              "              early_stopping=False, epsilon=0.1, eta0=0.0, fit_intercept=True,\n",
              "              l1_ratio=0.15, learning_rate='optimal', loss='hinge',\n",
              "              max_iter=1000, n_iter_no_change=5, n_jobs=None, penalty='l2',\n",
              "              power_t=0.5, random_state=42, shuffle=True, tol=0.001,\n",
              "              validation_fraction=0.1, verbose=0, warm_start=False)"
            ]
          },
          "metadata": {
            "tags": []
          },
          "execution_count": 37
        }
      ]
    },
    {
      "cell_type": "markdown",
      "metadata": {
        "id": "8XDnVDrrC5Vw",
        "colab_type": "text"
      },
      "source": [
        "Now we can use it to detect images of the number 5:"
      ]
    },
    {
      "cell_type": "code",
      "metadata": {
        "id": "xy4JKcDmD1lX",
        "colab_type": "code",
        "outputId": "66a1deab-b0a1-42bd-89fe-c9b05319c0cc",
        "colab": {
          "base_uri": "https://localhost:8080/",
          "height": 0
        }
      },
      "source": [
        "sgd_clf.predict([some_digit])"
      ],
      "execution_count": 38,
      "outputs": [
        {
          "output_type": "execute_result",
          "data": {
            "text/plain": [
              "array([ True])"
            ]
          },
          "metadata": {
            "tags": []
          },
          "execution_count": 38
        }
      ]
    },
    {
      "cell_type": "markdown",
      "metadata": {
        "id": "UpG0u5zcD_B8",
        "colab_type": "text"
      },
      "source": [
        "### Performance Measures"
      ]
    },
    {
      "cell_type": "markdown",
      "metadata": {
        "id": "LNm9IpZ-ED37",
        "colab_type": "text"
      },
      "source": [
        "Evaluating a classifier is often significantly trickier than evaluating a regressor, so we will spend a large part of this chapter on this topic. There are many performance measures available."
      ]
    },
    {
      "cell_type": "markdown",
      "metadata": {
        "id": "9NJ3oSnYEUNo",
        "colab_type": "text"
      },
      "source": [
        "#### Measuring Accuracy Using Cross-Validation"
      ]
    },
    {
      "cell_type": "markdown",
      "metadata": {
        "id": "1gSRtkseEdGY",
        "colab_type": "text"
      },
      "source": [
        "A good way to evaluate a model is to use cross-validation"
      ]
    },
    {
      "cell_type": "code",
      "metadata": {
        "id": "uGHNQQ5DEhb4",
        "colab_type": "code",
        "outputId": "f414bbe1-b75d-4941-a1bd-ca0349600f2b",
        "colab": {
          "base_uri": "https://localhost:8080/",
          "height": 0
        }
      },
      "source": [
        "from sklearn.model_selection import cross_val_score\n",
        "\n",
        "cross_val_score(sgd_clf, X_train, y_train_5, cv=3, scoring=\"accuracy\")"
      ],
      "execution_count": 39,
      "outputs": [
        {
          "output_type": "execute_result",
          "data": {
            "text/plain": [
              "array([0.95035, 0.96035, 0.9604 ])"
            ]
          },
          "metadata": {
            "tags": []
          },
          "execution_count": 39
        }
      ]
    },
    {
      "cell_type": "markdown",
      "metadata": {
        "id": "Wle-xs31Hzqq",
        "colab_type": "text"
      },
      "source": [
        "Accuracy is generally not the preferred performance measure for classifiers, especially when you are dealing with skewed datasets (i.e., when some classes are much more frequent than others)"
      ]
    },
    {
      "cell_type": "markdown",
      "metadata": {
        "id": "8rLYeeJqIAkA",
        "colab_type": "text"
      },
      "source": [
        "#### Confusion Matrix"
      ]
    },
    {
      "cell_type": "markdown",
      "metadata": {
        "id": "efxC3Q1jIEJI",
        "colab_type": "text"
      },
      "source": [
        "A much better way to evaluate the performance of a classifier is to look at the confusion matrix. The general idea is to count the number of times instances of class A are classified as class B. For example, to know the number of times the classifier confused images of 5s with 3s, you would look in the fifth row and third column of the confusion matrix.\n",
        "\n",
        "To compute the confusion matrix, we first need to have a set of predictions so that they can be compared to the actual targets."
      ]
    },
    {
      "cell_type": "code",
      "metadata": {
        "id": "kzyvqnQcIlQk",
        "colab_type": "code",
        "colab": {}
      },
      "source": [
        "from sklearn.model_selection import cross_val_predict\n",
        "\n",
        "y_train_pred = cross_val_predict(sgd_clf, X_train, y_train_5, cv=3)"
      ],
      "execution_count": 0,
      "outputs": []
    },
    {
      "cell_type": "code",
      "metadata": {
        "id": "_Ly18o9gJugg",
        "colab_type": "code",
        "outputId": "29f8e426-f9fe-43da-c605-456ea2cd2340",
        "colab": {
          "base_uri": "https://localhost:8080/",
          "height": 34
        }
      },
      "source": [
        "y_train_pred"
      ],
      "execution_count": 41,
      "outputs": [
        {
          "output_type": "execute_result",
          "data": {
            "text/plain": [
              "array([ True, False, False, ...,  True, False, False])"
            ]
          },
          "metadata": {
            "tags": []
          },
          "execution_count": 41
        }
      ]
    },
    {
      "cell_type": "markdown",
      "metadata": {
        "id": "XnizqzDgI-3W",
        "colab_type": "text"
      },
      "source": [
        "Just like the cross_val_score() function, cross_val_predict() performs K-fold cross-validation, but instead of returning the evaluation scores, it returns the predictions made on each test fold. This means that you get a clean prediction for each instance in the training set (\"clean\" meaning that the prediction is made by a model that never saw the data during training)"
      ]
    },
    {
      "cell_type": "markdown",
      "metadata": {
        "id": "FqaKkpbSNhCV",
        "colab_type": "text"
      },
      "source": [
        "cross_val_predict() splits the data into K parts (as does cross_val_score()) and then for i=1...k iterations: \n",
        "\n",
        "* takes the i-th part as test data and all other parts as training data\n",
        "\n",
        "* trains the model with training data (all parts except i-th part)\n",
        "\n",
        "* then by using this trained model, predicts labels for i-th part (test data)\n",
        "\n",
        "In each iteration, label of i-th part of the data gets predicted. In the end cross_val_prediction concatenates all partially predicted labels and returns them as the final result.\n"
      ]
    },
    {
      "cell_type": "code",
      "metadata": {
        "id": "CesXRvejJUHS",
        "colab_type": "code",
        "outputId": "a20c4769-0721-49cb-c8bb-86428e35d222",
        "colab": {
          "base_uri": "https://localhost:8080/",
          "height": 51
        }
      },
      "source": [
        "from sklearn.metrics import confusion_matrix\n",
        "confusion_matrix(y_train_5, y_train_pred)"
      ],
      "execution_count": 42,
      "outputs": [
        {
          "output_type": "execute_result",
          "data": {
            "text/plain": [
              "array([[53892,   687],\n",
              "       [ 1891,  3530]])"
            ]
          },
          "metadata": {
            "tags": []
          },
          "execution_count": 42
        }
      ]
    },
    {
      "cell_type": "markdown",
      "metadata": {
        "id": "4NbDNx0aO2yK",
        "colab_type": "text"
      },
      "source": [
        "Each row in a confusion matrix represents an actual class, while each column represents a predicted class. The first row of this matrix considers non-5 images (*negative class*): 53,892 of them were correctly classified as non-5s (they are called *true negatives*), while the remaining 687 were wrongly classified as 5s (*false positives*). The second row considers the images of 5s (*positive class*): 1,891 were wrongly classified as non-5s (*false negatives*), while the ramaining 3,530 were correctly classified as 5s (*true positives*). \n",
        "\n",
        "To recap:\n",
        "\n",
        "* *negative class*: first row (non-5 images)\n",
        "* *postive class*: second row (images of 5s)\n",
        "* *true negatives*: correctly classified as non 5's (52,892)\n",
        "* *true postives*: correctly classified as 5's (3,530)\n",
        "* *false postives*: wrongly classified as 5's (687)\n",
        "* *false negatives*: wrongly classified as non 5's (1,891)\n",
        "\n",
        "\n"
      ]
    },
    {
      "cell_type": "markdown",
      "metadata": {
        "id": "t1-V7SStOBv1",
        "colab_type": "text"
      },
      "source": [
        "A perfect classifier would have only true positives and true negatives, so its confusion matrix would have nonzero values only on its main diagonal"
      ]
    },
    {
      "cell_type": "code",
      "metadata": {
        "id": "Dj_tBtSjNv7U",
        "colab_type": "code",
        "outputId": "ddf9af94-fcd5-4168-9a3b-f387be463fdf",
        "colab": {
          "base_uri": "https://localhost:8080/",
          "height": 51
        }
      },
      "source": [
        "y_train_perfect_predictions = y_train_5\n",
        "confusion_matrix(y_train_5, y_train_perfect_predictions)"
      ],
      "execution_count": 43,
      "outputs": [
        {
          "output_type": "execute_result",
          "data": {
            "text/plain": [
              "array([[54579,     0],\n",
              "       [    0,  5421]])"
            ]
          },
          "metadata": {
            "tags": []
          },
          "execution_count": 43
        }
      ]
    },
    {
      "cell_type": "markdown",
      "metadata": {
        "id": "5GHu3KHzOR6I",
        "colab_type": "text"
      },
      "source": [
        "#### Precision and Recall"
      ]
    },
    {
      "cell_type": "markdown",
      "metadata": {
        "id": "5XROMqPTOaTM",
        "colab_type": "text"
      },
      "source": [
        "**Precision = the accuracy of the positive predictions; the precision of the classifier**\n",
        "\n",
        "* precision = TP / (TP + FP)\n",
        "\n",
        "* TP = number of true positives\n",
        "* FP = number of false positives\n",
        "\n",
        "* What is the ratio of correctly classified 5's and wrongly classified 5's (false positives) + correctly classified 5's\n",
        "\n",
        "* What percentage are the actual correctly predicted 5's out of all predicted 5's\n",
        "\n",
        "* How precise was my positive predictions"
      ]
    },
    {
      "cell_type": "markdown",
      "metadata": {
        "id": "TI5ob8DkO312",
        "colab_type": "text"
      },
      "source": [
        "***Recall* (also *sensitivity* or the *true positive rate*) = the ratio of positives instances that are correctly detected by the classifier**\n",
        "\n",
        "* recall = TP / (TP + FN)\n",
        "\n",
        "* FN = false negatives\n",
        "\n",
        "* What is the ratio of correctly classified 5's and missed 5's (wrongly classified non-5's) + correctly classified 5's\n",
        "\n",
        "* Ratio of how many out of all of the positive class we classified correctly\n",
        "\n",
        "* How many actual positives did I miss?"
      ]
    },
    {
      "cell_type": "code",
      "metadata": {
        "id": "cPptrLCEU3zC",
        "colab_type": "code",
        "outputId": "dc20b57a-163d-43f1-b2c7-0c169bcda0f8",
        "colab": {
          "base_uri": "https://localhost:8080/",
          "height": 34
        }
      },
      "source": [
        "from sklearn.metrics import precision_score, recall_score\n",
        "precision_score(y_train_5, y_train_pred)"
      ],
      "execution_count": 44,
      "outputs": [
        {
          "output_type": "execute_result",
          "data": {
            "text/plain": [
              "0.8370879772350012"
            ]
          },
          "metadata": {
            "tags": []
          },
          "execution_count": 44
        }
      ]
    },
    {
      "cell_type": "code",
      "metadata": {
        "id": "fxxAjvkhVDRa",
        "colab_type": "code",
        "outputId": "2a965bd7-0531-4688-9b30-f1303de256a4",
        "colab": {
          "base_uri": "https://localhost:8080/",
          "height": 34
        }
      },
      "source": [
        "recall_score(y_train_5, y_train_pred)"
      ],
      "execution_count": 45,
      "outputs": [
        {
          "output_type": "execute_result",
          "data": {
            "text/plain": [
              "0.6511713705958311"
            ]
          },
          "metadata": {
            "tags": []
          },
          "execution_count": 45
        }
      ]
    },
    {
      "cell_type": "markdown",
      "metadata": {
        "id": "CMzVTZawVQdq",
        "colab_type": "text"
      },
      "source": [
        "Precision\n",
        "* Wrongly classified approx. 17% non 5's as 5's\n",
        "* When it claims an image represents a 5, it's correct 83% of the time\n",
        "\n",
        "\n",
        "Recall\n",
        "* Wrongly classified approx 35% as non 5's even though they were 5's\n",
        "* Detects 65% of all of the 5's\n"
      ]
    },
    {
      "cell_type": "markdown",
      "metadata": {
        "id": "u3ImGWGjc9ZG",
        "colab_type": "text"
      },
      "source": [
        "##### F1 Score"
      ]
    },
    {
      "cell_type": "markdown",
      "metadata": {
        "id": "iGKvmSMxdAAM",
        "colab_type": "text"
      },
      "source": [
        "F1 score = combines precision and recall into a single metric and is a simple way to compare two classifiers\n",
        "\n",
        "The F1 score is the harmonic mean of precision and recall. Whereas the regular mean trats all values equally, the harmonic mean gives much more weight to low values. As aresult, the classifier will only get a high F1 score if both recall and precision are high."
      ]
    },
    {
      "cell_type": "markdown",
      "metadata": {
        "id": "LFyAB6Ude_F-",
        "colab_type": "text"
      },
      "source": [
        "F1 = 2 * (precision * recall) / (precision + recall)"
      ]
    },
    {
      "cell_type": "code",
      "metadata": {
        "id": "SbxVW6hTdsWd",
        "colab_type": "code",
        "outputId": "eb5d8df6-265e-4468-e718-13a2a698bdde",
        "colab": {
          "base_uri": "https://localhost:8080/",
          "height": 34
        }
      },
      "source": [
        "from sklearn.metrics import f1_score\n",
        "f1_score(y_train_5, y_train_pred)"
      ],
      "execution_count": 46,
      "outputs": [
        {
          "output_type": "execute_result",
          "data": {
            "text/plain": [
              "0.7325171197343846"
            ]
          },
          "metadata": {
            "tags": []
          },
          "execution_count": 46
        }
      ]
    },
    {
      "cell_type": "markdown",
      "metadata": {
        "id": "r62CLR6S901I",
        "colab_type": "text"
      },
      "source": [
        "The F1 score favors classifiers that have similiar precision and recall. This is not always what you want: in some contexts you mostly care about precision, and in other contexts you really care about recall. For example, if you trained a classifier to detect videos that are safe for kids, you would probably prefer a classifier that rejects many good videos (low recall) but keeps only safe ones (high precision). On the other hand, suppose you train a classifier to detect shoplifters in surveillance images: it is probably fine if your classifier has only 30% precision as long as it has 99% recall\n",
        "\n",
        "Unfortunately, you can't have it both ways: increasing precision reduces recall, and vice versa. This is called the *precision/recall trade-off*"
      ]
    },
    {
      "cell_type": "markdown",
      "metadata": {
        "id": "fklQcaK1_LHP",
        "colab_type": "text"
      },
      "source": [
        "##### Precision/Recall Trade-off"
      ]
    },
    {
      "cell_type": "markdown",
      "metadata": {
        "id": "aInfqy6J_OLf",
        "colab_type": "text"
      },
      "source": [
        "To understand this trade-off, let's look at how the SGDClassifier makes its classification decisions. For each instance, it computes a score based on a decision function. If that score is greater than a threshold, it assigns the instance to the positive class; otherwise it assigns it to the negative class. Conversly, lowering the threshold increases recall and reduces precision"
      ]
    },
    {
      "cell_type": "markdown",
      "metadata": {
        "id": "KEObX2saA2sC",
        "colab_type": "text"
      },
      "source": [
        "Scikit-Learn does not let you set the threshold directly, but it does give you access to the decision scores that it uses to make predictions. Instead of calling the classifier's predict() method, you can call its decision_function() method, which returns a score for each instance, and then use any threshold you want to make predictions base on those scores:\n"
      ]
    },
    {
      "cell_type": "code",
      "metadata": {
        "id": "VwntsafjBGjZ",
        "colab_type": "code",
        "outputId": "99e020b0-07ad-4280-df69-007ab1fd9250",
        "colab": {
          "base_uri": "https://localhost:8080/",
          "height": 34
        }
      },
      "source": [
        "y_scores = sgd_clf.decision_function([some_digit])\n",
        "y_scores"
      ],
      "execution_count": 47,
      "outputs": [
        {
          "output_type": "execute_result",
          "data": {
            "text/plain": [
              "array([2164.22030239])"
            ]
          },
          "metadata": {
            "tags": []
          },
          "execution_count": 47
        }
      ]
    },
    {
      "cell_type": "code",
      "metadata": {
        "id": "xjfMWV8CBLE3",
        "colab_type": "code",
        "outputId": "cd814528-1c08-446f-c3b8-69541ac6f574",
        "colab": {
          "base_uri": "https://localhost:8080/",
          "height": 34
        }
      },
      "source": [
        "threshold = 0\n",
        "y_some_digit_pred = (y_scores > threshold)\n",
        "y_some_digit_pred"
      ],
      "execution_count": 48,
      "outputs": [
        {
          "output_type": "execute_result",
          "data": {
            "text/plain": [
              "array([ True])"
            ]
          },
          "metadata": {
            "tags": []
          },
          "execution_count": 48
        }
      ]
    },
    {
      "cell_type": "markdown",
      "metadata": {
        "id": "Xq9yiOBoBoXM",
        "colab_type": "text"
      },
      "source": [
        "How do you decide which threshold to use? \n",
        "* First, use the cross_val_predict() function to get the scores of all instances in the training set, but this time specify that you want to return decision scores instead of predictions:"
      ]
    },
    {
      "cell_type": "code",
      "metadata": {
        "id": "PJaplEdUB2xF",
        "colab_type": "code",
        "colab": {}
      },
      "source": [
        "y_scores = cross_val_predict(sgd_clf, X_train, y_train_5, cv=3,\n",
        "                             method=\"decision_function\")"
      ],
      "execution_count": 0,
      "outputs": []
    },
    {
      "cell_type": "markdown",
      "metadata": {
        "id": "leRPxyFCCEYZ",
        "colab_type": "text"
      },
      "source": [
        "With these scores, use the precision_recall_curve() function to compute precision and recall for all possible thresholds:"
      ]
    },
    {
      "cell_type": "code",
      "metadata": {
        "id": "xXDn8BBdCLEF",
        "colab_type": "code",
        "colab": {}
      },
      "source": [
        "from sklearn.metrics import precision_recall_curve\n",
        "\n",
        "precisions, recalls, thresholds = precision_recall_curve(y_train_5, y_scores)"
      ],
      "execution_count": 0,
      "outputs": []
    },
    {
      "cell_type": "markdown",
      "metadata": {
        "id": "_YCmOD3tCTMo",
        "colab_type": "text"
      },
      "source": [
        "Finally, use Matplotlib to plot precision and recall as functions of the threshold value:"
      ]
    },
    {
      "cell_type": "code",
      "metadata": {
        "id": "1DKKzVgOCcwK",
        "colab_type": "code",
        "colab": {}
      },
      "source": [
        "# highlight the threshold and add the legend, axis label, and grid\n",
        "def plot_precision_recall_vs_threshold(precisions, recalls, thresholds):\n",
        "  plt.plot(thresholds, precisions[:-1], \"b--\", label=\"Precision\")\n",
        "  plt.plot(thresholds, recalls[:-1], \"g-\", label=\"Recall\")\n",
        "  plt.legend(loc=\"lower right\")"
      ],
      "execution_count": 0,
      "outputs": []
    },
    {
      "cell_type": "code",
      "metadata": {
        "id": "yqC72KjRCsjs",
        "colab_type": "code",
        "outputId": "01357d86-96c2-4efc-ddc1-6ac661c00dbb",
        "colab": {
          "base_uri": "https://localhost:8080/",
          "height": 265
        }
      },
      "source": [
        "plot_precision_recall_vs_threshold(precisions, recalls, thresholds)\n",
        "plt.show()"
      ],
      "execution_count": 52,
      "outputs": [
        {
          "output_type": "display_data",
          "data": {
            "image/png": "[encoded data removed]",
            "text/plain": [
              "<Figure size 432x288 with 1 Axes>"
            ]
          },
          "metadata": {
            "tags": []
          }
        }
      ]
    },
    {
      "cell_type": "markdown",
      "metadata": {
        "id": "FiXqL_hCDbVE",
        "colab_type": "text"
      },
      "source": [
        "Another way to select a good precision/recall trade-off is to plot precision directly against recall:"
      ]
    },
    {
      "cell_type": "code",
      "metadata": {
        "id": "C7aB77lwDinG",
        "colab_type": "code",
        "outputId": "84d0c35f-19f7-4065-8798-125fd9c4771f",
        "colab": {
          "base_uri": "https://localhost:8080/",
          "height": 34
        }
      },
      "source": [
        "thresholds_90_precision = thresholds[np.argmax(precisions >= 0.90)]\n",
        "thresholds_90_precision"
      ],
      "execution_count": 53,
      "outputs": [
        {
          "output_type": "execute_result",
          "data": {
            "text/plain": [
              "3370.0194991439557"
            ]
          },
          "metadata": {
            "tags": []
          },
          "execution_count": 53
        }
      ]
    },
    {
      "cell_type": "code",
      "metadata": {
        "id": "7liWxk4nETcb",
        "colab_type": "code",
        "colab": {}
      },
      "source": [
        "y_train_pred_90 = (y_scores >= thresholds_90_precision)"
      ],
      "execution_count": 0,
      "outputs": []
    },
    {
      "cell_type": "code",
      "metadata": {
        "id": "FN7E3CslEacL",
        "colab_type": "code",
        "outputId": "31e90484-c3a9-4a43-cc06-2c1b0a11941f",
        "colab": {
          "base_uri": "https://localhost:8080/",
          "height": 34
        }
      },
      "source": [
        "precision_score(y_train_5, y_train_pred_90)"
      ],
      "execution_count": 55,
      "outputs": [
        {
          "output_type": "execute_result",
          "data": {
            "text/plain": [
              "0.9000345901072293"
            ]
          },
          "metadata": {
            "tags": []
          },
          "execution_count": 55
        }
      ]
    },
    {
      "cell_type": "code",
      "metadata": {
        "id": "wpt3DbumEdjy",
        "colab_type": "code",
        "colab": {
          "base_uri": "https://localhost:8080/",
          "height": 34
        },
        "outputId": "f552eef7-c1fd-4b8c-f5d8-8194cf250e13"
      },
      "source": [
        "recall_score(y_train_5, y_train_pred_90)"
      ],
      "execution_count": 57,
      "outputs": [
        {
          "output_type": "execute_result",
          "data": {
            "text/plain": [
              "0.4799852425751706"
            ]
          },
          "metadata": {
            "tags": []
          },
          "execution_count": 57
        }
      ]
    },
    {
      "cell_type": "markdown",
      "metadata": {
        "id": "1DGjVCH1OAnY",
        "colab_type": "text"
      },
      "source": [
        "##### The ROC Curve"
      ]
    },
    {
      "cell_type": "markdown",
      "metadata": {
        "id": "V0RDnVsmOFZ5",
        "colab_type": "text"
      },
      "source": [
        "***ROC* (reciever operating characteristic) curve plots the *true positive rate* (another name for recall) against the *false positive rate* (FPR).**\n",
        "\n",
        "* The FPR (false positive rate) is the ratio of negative instances that are incorrectly classified as positive. It is equal to 1 - the *true negative rate* (TNR)\n",
        "\n",
        "* The TNR (true negative rate) is the ratio of negative instances that are correctly classified as negative. It is also called specificy. Hence, the ROC curve plots recall versus 1 - specificy"
      ]
    },
    {
      "cell_type": "code",
      "metadata": {
        "id": "k8T2cLqhQbgA",
        "colab_type": "code",
        "colab": {
          "base_uri": "https://localhost:8080/",
          "height": 68
        },
        "outputId": "47d1f047-a1da-4353-dc70-3ad3a1f17ef6"
      },
      "source": [
        "conf_matr = confusion_matrix(y_train_5, y_train_pred)\n",
        "fpr = conf_matr[0][1] / (conf_matr[0][0] + conf_matr[0][1]) # false positives / negatives\n",
        "tnr = conf_matr[0][0] / (conf_matr[0][0] + conf_matr[0][1])\n",
        "print('fpr', fpr)\n",
        "print('tnr', tnr)\n",
        "print('1 - tnr', 1-tnr)\n"
      ],
      "execution_count": 66,
      "outputs": [
        {
          "output_type": "stream",
          "text": [
            "fpr 0.012587258835815972\n",
            "tnr 0.987412741164184\n",
            "1 - tnr 0.012587258835816018\n"
          ],
          "name": "stdout"
        }
      ]
    },
    {
      "cell_type": "code",
      "metadata": {
        "id": "APjHm6s1O6H0",
        "colab_type": "code",
        "colab": {}
      },
      "source": [
        "from sklearn.metrics import roc_curve\n",
        "\n",
        "fpr, tpr, thresholds = roc_curve(y_train_5, y_scores)"
      ],
      "execution_count": 0,
      "outputs": []
    },
    {
      "cell_type": "code",
      "metadata": {
        "id": "DyQAH6vYP2cw",
        "colab_type": "code",
        "colab": {}
      },
      "source": [
        "def plot_roc_curve(fpr, tpr, label=None):\n",
        "  plt.plot(fpr, tpr, linewidth=2, label=label)\n",
        "  plt.plot([0, 1], [0, 1], 'k--')"
      ],
      "execution_count": 0,
      "outputs": []
    },
    {
      "cell_type": "markdown",
      "metadata": {
        "id": "PFMJ7GpASKKX",
        "colab_type": "text"
      },
      "source": [
        "Once again there is a trade-off: the higher the recall (TPR), the more false positives (FPR) the classifier produces. The dotted line represents the ROC curve of a purely random classifier; a good classifier moves toward the top-left corner ad stays as far away from that line as possible"
      ]
    },
    {
      "cell_type": "code",
      "metadata": {
        "id": "MIAGIc0iQJnw",
        "colab_type": "code",
        "colab": {
          "base_uri": "https://localhost:8080/",
          "height": 265
        },
        "outputId": "0c8cbd9b-0e28-4e64-b11f-26f9eb6cf956"
      },
      "source": [
        "plot_roc_curve(fpr, tpr)\n",
        "plt.show()"
      ],
      "execution_count": 65,
      "outputs": [
        {
          "output_type": "display_data",
          "data": {
            "image/png": "[encoded data removed]",
            "text/plain": [
              "<Figure size 432x288 with 1 Axes>"
            ]
          },
          "metadata": {
            "tags": []
          }
        }
      ]
    },
    {
      "cell_type": "markdown",
      "metadata": {
        "id": "w_yhTB2yTFYl",
        "colab_type": "text"
      },
      "source": [
        "One way to compare classifiers is to measure the *area under the curve* (AUC). A perfect classifier will have a ROC AUC equal to 1, whereas a purely random classifier will have a ROC AUC equal to 0.5."
      ]
    },
    {
      "cell_type": "code",
      "metadata": {
        "id": "_gujd8yNTTcz",
        "colab_type": "code",
        "colab": {
          "base_uri": "https://localhost:8080/",
          "height": 34
        },
        "outputId": "47ff9372-f016-41f6-b414-846fa828caa9"
      },
      "source": [
        "from sklearn.metrics import roc_auc_score\n",
        "roc_auc_score(y_train_5, y_scores)"
      ],
      "execution_count": 68,
      "outputs": [
        {
          "output_type": "execute_result",
          "data": {
            "text/plain": [
              "0.9604938554008616"
            ]
          },
          "metadata": {
            "tags": []
          },
          "execution_count": 68
        }
      ]
    },
    {
      "cell_type": "markdown",
      "metadata": {
        "id": "eCzAjmlaTiyb",
        "colab_type": "text"
      },
      "source": [
        "Rule of thumb:\n",
        "\n",
        "* Prefer the precision/recall curve whenever the positive class is rare or when you care more about the false positives than the false negatives.\n",
        "\n",
        "* Otherwise, use the ROC curve\n",
        "\n",
        "Looking at the previous ROC curve and the ROC AUC score, you may think that the classifier is really good. But this is mostly because there are few positives (5s) compared to the negatives (non-5s). In contrast, the PR curve makes it clear that the classifier has room for improvement (the curve could be closer to the top-left corner)"
      ]
    },
    {
      "cell_type": "markdown",
      "metadata": {
        "id": "4yxQiU1BVfFA",
        "colab_type": "text"
      },
      "source": [
        "#### RandomForestClassifier vs SGDClassifier"
      ]
    },
    {
      "cell_type": "markdown",
      "metadata": {
        "id": "2rNDFUndVq2R",
        "colab_type": "text"
      },
      "source": [
        "RandomForestClassifier class does not have a decision_function() method. Instead, it has a predict_proba() method. Scikit-Learn classifiers generally have one or the other, or both. the predict_proba() method returns an array containing a row per instance and a column per class, each containing the probability that the given instance belongs to the given class (e.g., 70% chance that the image represents a 5):"
      ]
    },
    {
      "cell_type": "code",
      "metadata": {
        "id": "mg-P24aPWEFx",
        "colab_type": "code",
        "colab": {}
      },
      "source": [
        "# Let's train a RFC and compare its ROC and ROC AUC to a SGDClassifier\n",
        "from sklearn.ensemble import RandomForestClassifier\n",
        "\n",
        "forest_clf = RandomForestClassifier(random_state=42)\n",
        "y_probas_forest = cross_val_predict(forest_clf, X_train, y_train_5, cv=3,\n",
        "                                    method=\"predict_proba\")"
      ],
      "execution_count": 0,
      "outputs": []
    },
    {
      "cell_type": "markdown",
      "metadata": {
        "id": "AVfCgtSNWkmA",
        "colab_type": "text"
      },
      "source": [
        "The roc_curve() function expects labels and scores, but instead of scores you can give it class probabilities. Let's use the positive class's probability as the score:"
      ]
    },
    {
      "cell_type": "code",
      "metadata": {
        "id": "kExhW7IpWxoo",
        "colab_type": "code",
        "colab": {
          "base_uri": "https://localhost:8080/",
          "height": 34
        },
        "outputId": "68ad6fce-0233-44cc-ae3b-5a5d30e9a8f8"
      },
      "source": [
        "y_score_forest = y_probas_forest[:, 1] # probabilities of images being 5's (proba of positive class)\n",
        "print('RFC predicted cross validation labels', y_score_forest)\n",
        "fpr_forest, tpr_forest, thresholds_forest = roc_curve(y_train_5, y_score_forest)"
      ],
      "execution_count": 74,
      "outputs": [
        {
          "output_type": "stream",
          "text": [
            "RFC predicted cross validation labels [0.89 0.01 0.04 ... 0.98 0.08 0.06]\n"
          ],
          "name": "stdout"
        }
      ]
    },
    {
      "cell_type": "code",
      "metadata": {
        "id": "nXmmKq9JXTH5",
        "colab_type": "code",
        "colab": {
          "base_uri": "https://localhost:8080/",
          "height": 265
        },
        "outputId": "a3e8243c-4d6a-44b1-a4ca-86ed41b67a03"
      },
      "source": [
        "plt.plot(fpr, tpr, 'b:', label=\"SGD\")\n",
        "plot_roc_curve(fpr_forest, tpr_forest, \"Random Forest\")\n",
        "plt.legend(loc=\"lower right\")\n",
        "plt.show()"
      ],
      "execution_count": 77,
      "outputs": [
        {
          "output_type": "display_data",
          "data": {
            "image/png": "[encoded data removed]",
            "text/plain": [
              "<Figure size 432x288 with 1 Axes>"
            ]
          },
          "metadata": {
            "tags": []
          }
        }
      ]
    },
    {
      "cell_type": "markdown",
      "metadata": {
        "id": "0nkx3QeIYMS-",
        "colab_type": "text"
      },
      "source": [
        "As we can see, the RandomForestClassifier's ROC curve looks much better than the SGDClassifier's: it comes much closer to the top-left corner. As a result, its ROC AUC score is also significantly better:"
      ]
    },
    {
      "cell_type": "code",
      "metadata": {
        "id": "wsrWxA8UYXNf",
        "colab_type": "code",
        "colab": {
          "base_uri": "https://localhost:8080/",
          "height": 34
        },
        "outputId": "3a29203e-255e-449c-c585-0f04450097ce"
      },
      "source": [
        "roc_auc_score(y_train_5, y_score_forest)"
      ],
      "execution_count": 78,
      "outputs": [
        {
          "output_type": "execute_result",
          "data": {
            "text/plain": [
              "0.9983436731328145"
            ]
          },
          "metadata": {
            "tags": []
          },
          "execution_count": 78
        }
      ]
    },
    {
      "cell_type": "markdown",
      "metadata": {
        "id": "7PNhv2nfdOBb",
        "colab_type": "text"
      },
      "source": [
        "Let's look at the precision and recall of the RandomForestClassifier"
      ]
    },
    {
      "cell_type": "code",
      "metadata": {
        "id": "Krl_5af0cRy6",
        "colab_type": "code",
        "colab": {}
      },
      "source": [
        "precisions, recalls, thresholds = precision_recall_curve(y_train_5, y_score_forest)"
      ],
      "execution_count": 0,
      "outputs": []
    },
    {
      "cell_type": "code",
      "metadata": {
        "id": "qCuqhGbtcYe3",
        "colab_type": "code",
        "colab": {
          "base_uri": "https://localhost:8080/",
          "height": 265
        },
        "outputId": "8cd95964-3d4a-4471-8be0-d09d980e1824"
      },
      "source": [
        "plot_precision_recall_vs_threshold(precisions, recalls, thresholds)\n",
        "plt.show()"
      ],
      "execution_count": 116,
      "outputs": [
        {
          "output_type": "display_data",
          "data": {
            "image/png": "[encoded data removed]",
            "text/plain": [
              "<Figure size 432x288 with 1 Axes>"
            ]
          },
          "metadata": {
            "tags": []
          }
        }
      ]
    },
    {
      "cell_type": "code",
      "metadata": {
        "id": "sG90zDn0YbW0",
        "colab_type": "code",
        "colab": {
          "base_uri": "https://localhost:8080/",
          "height": 34
        },
        "outputId": "d1796af9-fe1c-44c4-b7be-338743f80646"
      },
      "source": [
        "y_true = (y_score_forest >= 0.5)\n",
        "y_true"
      ],
      "execution_count": 124,
      "outputs": [
        {
          "output_type": "execute_result",
          "data": {
            "text/plain": [
              "array([ True, False, False, ...,  True, False, False])"
            ]
          },
          "metadata": {
            "tags": []
          },
          "execution_count": 124
        }
      ]
    },
    {
      "cell_type": "code",
      "metadata": {
        "id": "ibBZNIcQbqK9",
        "colab_type": "code",
        "colab": {
          "base_uri": "https://localhost:8080/",
          "height": 34
        },
        "outputId": "8908f16e-33e1-4fa8-ee27-07c9c5a1e0bb"
      },
      "source": [
        "precision_score(y_train_5, y_true)"
      ],
      "execution_count": 125,
      "outputs": [
        {
          "output_type": "execute_result",
          "data": {
            "text/plain": [
              "0.9897468089558485"
            ]
          },
          "metadata": {
            "tags": []
          },
          "execution_count": 125
        }
      ]
    },
    {
      "cell_type": "code",
      "metadata": {
        "id": "nbDa6G5Bb6__",
        "colab_type": "code",
        "colab": {
          "base_uri": "https://localhost:8080/",
          "height": 34
        },
        "outputId": "272d5fbe-942c-41ed-8c69-cc7563e77bbe"
      },
      "source": [
        "recall_score(y_train_5, y_true)"
      ],
      "execution_count": 126,
      "outputs": [
        {
          "output_type": "execute_result",
          "data": {
            "text/plain": [
              "0.8725327430363402"
            ]
          },
          "metadata": {
            "tags": []
          },
          "execution_count": 126
        }
      ]
    }
  ]
}