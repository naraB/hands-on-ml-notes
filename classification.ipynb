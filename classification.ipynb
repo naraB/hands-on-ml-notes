{
  "nbformat": 4,
  "nbformat_minor": 0,
  "metadata": {
    "colab": {
      "name": "classification.ipynb",
      "provenance": [],
      "collapsed_sections": [
        "lkDgPLge9BoU",
        "er-Ye_SGARtB",
        "uuSkU6SgBco_",
        "9NJ3oSnYEUNo",
        "8rLYeeJqIAkA"
      ],
      "authorship_tag": "ABX9TyNmLMsCnfA2pUI6QFU604Pt",
      "include_colab_link": true
    },
    "kernelspec": {
      "name": "python3",
      "display_name": "Python 3"
    }
  },
  "cells": [
    {
      "cell_type": "markdown",
      "metadata": {
        "id": "view-in-github",
        "colab_type": "text"
      },
      "source": [
        "<a href=\"https://colab.research.google.com/github/naraB/handson-ml-notes/blob/master/classification.ipynb\" target=\"_parent\"><img src=\"https://colab.research.google.com/assets/colab-badge.svg\" alt=\"Open In Colab\"/></a>"
      ]
    },
    {
      "cell_type": "markdown",
      "metadata": {
        "id": "EYR0aG7W1rsy",
        "colab_type": "text"
      },
      "source": [
        "# Classification"
      ]
    },
    {
      "cell_type": "code",
      "metadata": {
        "id": "VPCy7XMxAMhg",
        "colab_type": "code",
        "colab": {}
      },
      "source": [
        "import numpy as np"
      ],
      "execution_count": 0,
      "outputs": []
    },
    {
      "cell_type": "markdown",
      "metadata": {
        "id": "lkDgPLge9BoU",
        "colab_type": "text"
      },
      "source": [
        "## Downloading the dataset"
      ]
    },
    {
      "cell_type": "code",
      "metadata": {
        "id": "sChauhkH9SOS",
        "colab_type": "code",
        "outputId": "983e93c9-409e-4b46-d956-a0ed823cf713",
        "colab": {
          "base_uri": "https://localhost:8080/",
          "height": 34
        }
      },
      "source": [
        "from sklearn.datasets import fetch_openml\n",
        "mnist = fetch_openml('mnist_784', version=1)\n",
        "mnist.keys()"
      ],
      "execution_count": 72,
      "outputs": [
        {
          "output_type": "execute_result",
          "data": {
            "text/plain": [
              "dict_keys(['data', 'target', 'frame', 'feature_names', 'target_names', 'DESCR', 'details', 'categories', 'url'])"
            ]
          },
          "metadata": {
            "tags": []
          },
          "execution_count": 72
        }
      ]
    },
    {
      "cell_type": "markdown",
      "metadata": {
        "id": "UT_u_YBF9le2",
        "colab_type": "text"
      },
      "source": [
        "Datasets loaded by Scikit-Learn generally have a similar dictionary structure: \n",
        "\n",
        "* *DESCR* key describing the dataset\n",
        "* *data* key containing an array with one row per instance and one column per feature\n",
        "* *target* key containing an array with labels"
      ]
    },
    {
      "cell_type": "code",
      "metadata": {
        "id": "fs2JMtJk9729",
        "colab_type": "code",
        "outputId": "7fccdb25-18eb-4fb9-eaba-5a0f79806341",
        "colab": {
          "base_uri": "https://localhost:8080/",
          "height": 51
        }
      },
      "source": [
        "X,y = mnist['data'], mnist['target']\n",
        "print('X shape', X.shape)\n",
        "print('y shape', y.shape)"
      ],
      "execution_count": 73,
      "outputs": [
        {
          "output_type": "stream",
          "text": [
            "X shape (70000, 784)\n",
            "y shape (70000,)\n"
          ],
          "name": "stdout"
        }
      ]
    },
    {
      "cell_type": "markdown",
      "metadata": {
        "id": "OvWFx80q-L5s",
        "colab_type": "text"
      },
      "source": [
        "There are 70,000 images, and each image has 784 features. This is because each image is 28 * 28 pixels, and each feature simply represents one pixel's instensity, from 0 (white) to 255 (black). Lets take apeek at one digit from the dataset. All we need to do is grab an instance's feature vector, reshapre it to a 28 * 28 array, and display it using Matplotlib's imhsow() function:"
      ]
    },
    {
      "cell_type": "code",
      "metadata": {
        "id": "y2PoIlda_Nhh",
        "colab_type": "code",
        "outputId": "9218f422-a42b-4b39-89ca-2f3c29e2c288",
        "colab": {
          "base_uri": "https://localhost:8080/",
          "height": 265
        }
      },
      "source": [
        "import matplotlib as mpl\n",
        "import matplotlib.pyplot as plt\n",
        "\n",
        "some_digit = X[0]\n",
        "print(some_digit.shape)\n",
        "some_digit_image = some_digit.reshape(28, 28)\n",
        "plt.imshow(some_digit_image, cmap=\"binary\")\n",
        "plt.axis(\"off\")\n",
        "plt.show()"
      ],
      "execution_count": 74,
      "outputs": [
        {
          "output_type": "stream",
          "text": [
            "(784,)\n"
          ],
          "name": "stdout"
        },
        {
          "output_type": "display_data",
          "data": {
            "image/png": "[encoded data removed]",
            "text/plain": [
              "<Figure size 432x288 with 1 Axes>"
            ]
          },
          "metadata": {
            "tags": []
          }
        }
      ]
    },
    {
      "cell_type": "code",
      "metadata": {
        "id": "VTEVu5sh_30r",
        "colab_type": "code",
        "outputId": "f3da5345-b4f2-4599-92fa-9c86531fa81d",
        "colab": {
          "base_uri": "https://localhost:8080/",
          "height": 34
        }
      },
      "source": [
        "y[0]"
      ],
      "execution_count": 75,
      "outputs": [
        {
          "output_type": "execute_result",
          "data": {
            "text/plain": [
              "'5'"
            ]
          },
          "metadata": {
            "tags": []
          },
          "execution_count": 75
        }
      ]
    },
    {
      "cell_type": "markdown",
      "metadata": {
        "id": "IwFfbB4A_7xc",
        "colab_type": "text"
      },
      "source": [
        "Note that the label is a string. Most ML algorithms expect numbers, so lets cast y to integer:"
      ]
    },
    {
      "cell_type": "code",
      "metadata": {
        "id": "4x9hmS1mABfM",
        "colab_type": "code",
        "colab": {}
      },
      "source": [
        "y = y.astype(np.uint8)"
      ],
      "execution_count": 0,
      "outputs": []
    },
    {
      "cell_type": "markdown",
      "metadata": {
        "id": "er-Ye_SGARtB",
        "colab_type": "text"
      },
      "source": [
        "## Creating test and train set"
      ]
    },
    {
      "cell_type": "markdown",
      "metadata": {
        "id": "-o54XC5EAVh4",
        "colab_type": "text"
      },
      "source": [
        "The MNIST dataset is already split into a training set (the first 60,000 images) and test set (the last 10,000 images)"
      ]
    },
    {
      "cell_type": "code",
      "metadata": {
        "id": "_l8gMcJaAfEF",
        "colab_type": "code",
        "colab": {}
      },
      "source": [
        "X_train, X_test, y_train, y_test = X[:60000], X[60000:], y[:60000], y[60000:]"
      ],
      "execution_count": 0,
      "outputs": []
    },
    {
      "cell_type": "markdown",
      "metadata": {
        "id": "9LiYqk_3AtBQ",
        "colab_type": "text"
      },
      "source": [
        "The training data is already shuffled for us"
      ]
    },
    {
      "cell_type": "markdown",
      "metadata": {
        "id": "XFgyoDBBA3KW",
        "colab_type": "text"
      },
      "source": [
        "## Binary Classification"
      ]
    },
    {
      "cell_type": "markdown",
      "metadata": {
        "id": "NA0Km9muBiB-",
        "colab_type": "text"
      },
      "source": [
        "Let's simplify the problem for now and only tr to identify one digit - for example, te number 5. This \"5-detector\" will be an example of a binary classifier, capable of distinguishing between just two classes, 5 and not-5"
      ]
    },
    {
      "cell_type": "code",
      "metadata": {
        "id": "iVBzanVGByzc",
        "colab_type": "code",
        "colab": {}
      },
      "source": [
        "y_train_5 = (y_train == 5)\n",
        "y_test_5 = (y_test == 5)"
      ],
      "execution_count": 0,
      "outputs": []
    },
    {
      "cell_type": "markdown",
      "metadata": {
        "id": "uuSkU6SgBco_",
        "colab_type": "text"
      },
      "source": [
        "### Training"
      ]
    },
    {
      "cell_type": "markdown",
      "metadata": {
        "id": "VuVASG1HB33D",
        "colab_type": "text"
      },
      "source": [
        "Let's use a *Stochastic Gradient Descent* (SGD) classifier, Scikit-learn's SGDClassifier class.\n",
        "\n",
        "The classifier has the advantage of being capable of handling very large datasets efficiently. This is in part because SGD deals with training instances independently, one at a time (which also makes SGD well suited for online learning), as we will see later"
      ]
    },
    {
      "cell_type": "code",
      "metadata": {
        "id": "dcK_jNO-Clii",
        "colab_type": "code",
        "outputId": "7e2b728e-c242-458f-e832-9934ecda1f6b",
        "colab": {
          "base_uri": "https://localhost:8080/",
          "height": 119
        }
      },
      "source": [
        "from sklearn.linear_model import SGDClassifier\n",
        "\n",
        "sgd_clf = SGDClassifier(random_state=42)\n",
        "sgd_clf.fit(X_train, y_train_5)"
      ],
      "execution_count": 79,
      "outputs": [
        {
          "output_type": "execute_result",
          "data": {
            "text/plain": [
              "SGDClassifier(alpha=0.0001, average=False, class_weight=None,\n",
              "              early_stopping=False, epsilon=0.1, eta0=0.0, fit_intercept=True,\n",
              "              l1_ratio=0.15, learning_rate='optimal', loss='hinge',\n",
              "              max_iter=1000, n_iter_no_change=5, n_jobs=None, penalty='l2',\n",
              "              power_t=0.5, random_state=42, shuffle=True, tol=0.001,\n",
              "              validation_fraction=0.1, verbose=0, warm_start=False)"
            ]
          },
          "metadata": {
            "tags": []
          },
          "execution_count": 79
        }
      ]
    },
    {
      "cell_type": "markdown",
      "metadata": {
        "id": "8XDnVDrrC5Vw",
        "colab_type": "text"
      },
      "source": [
        "Now we can use it to detect images of the number 5:"
      ]
    },
    {
      "cell_type": "code",
      "metadata": {
        "id": "xy4JKcDmD1lX",
        "colab_type": "code",
        "outputId": "dacbce54-6350-455f-f907-c8f7a4f1fa9a",
        "colab": {
          "base_uri": "https://localhost:8080/",
          "height": 34
        }
      },
      "source": [
        "sgd_clf.predict([some_digit])"
      ],
      "execution_count": 80,
      "outputs": [
        {
          "output_type": "execute_result",
          "data": {
            "text/plain": [
              "array([ True])"
            ]
          },
          "metadata": {
            "tags": []
          },
          "execution_count": 80
        }
      ]
    },
    {
      "cell_type": "markdown",
      "metadata": {
        "id": "UpG0u5zcD_B8",
        "colab_type": "text"
      },
      "source": [
        "### Performance Measures"
      ]
    },
    {
      "cell_type": "markdown",
      "metadata": {
        "id": "LNm9IpZ-ED37",
        "colab_type": "text"
      },
      "source": [
        "Evaluating a classifier is often significantly trickier than evaluating a regressor, so we will spend a large part of this chapter on this topic. There are many performance measures available."
      ]
    },
    {
      "cell_type": "markdown",
      "metadata": {
        "id": "9NJ3oSnYEUNo",
        "colab_type": "text"
      },
      "source": [
        "#### Measuring Accuracy Using Cross-Validation"
      ]
    },
    {
      "cell_type": "markdown",
      "metadata": {
        "id": "1gSRtkseEdGY",
        "colab_type": "text"
      },
      "source": [
        "A good way to evaluate a model is to use cross-validation"
      ]
    },
    {
      "cell_type": "code",
      "metadata": {
        "id": "uGHNQQ5DEhb4",
        "colab_type": "code",
        "colab": {
          "base_uri": "https://localhost:8080/",
          "height": 0
        },
        "outputId": "4ffe963e-a247-40f4-c64b-1b5b420ee69d"
      },
      "source": [
        "from sklearn.model_selection import cross_val_score\n",
        "\n",
        "cross_val_score(sgd_clf, X_train, y_train_5, cv=3, scoring=\"accuracy\")"
      ],
      "execution_count": 81,
      "outputs": [
        {
          "output_type": "execute_result",
          "data": {
            "text/plain": [
              "array([0.95035, 0.96035, 0.9604 ])"
            ]
          },
          "metadata": {
            "tags": []
          },
          "execution_count": 81
        }
      ]
    },
    {
      "cell_type": "markdown",
      "metadata": {
        "id": "Wle-xs31Hzqq",
        "colab_type": "text"
      },
      "source": [
        "Accuracy is generally not the preferred performance measure for classifiers, especially when you are dealing with skewed datasets (i.e., when some classes are much more frequent than others)"
      ]
    },
    {
      "cell_type": "markdown",
      "metadata": {
        "id": "8rLYeeJqIAkA",
        "colab_type": "text"
      },
      "source": [
        "#### Confusion Matrix"
      ]
    },
    {
      "cell_type": "markdown",
      "metadata": {
        "id": "efxC3Q1jIEJI",
        "colab_type": "text"
      },
      "source": [
        "A much better way to evaluate the performance of a classifier is to look at the confusion matrix. The general idea is to count the number of times instances of class A are classified as class B. For example, to know the number of times the classifier confused images of 5s with 3s, you would look in the fifth row and third column of the confusion matrix.\n",
        "\n",
        "To compute the confusion matrix, we first need to have a set of predictions so that they can be compared to the actual targets."
      ]
    },
    {
      "cell_type": "code",
      "metadata": {
        "id": "kzyvqnQcIlQk",
        "colab_type": "code",
        "colab": {}
      },
      "source": [
        "from sklearn.model_selection import cross_val_predict\n",
        "\n",
        "y_train_pred = cross_val_predict(sgd_clf, X_train, y_train_5, cv=3)"
      ],
      "execution_count": 0,
      "outputs": []
    },
    {
      "cell_type": "code",
      "metadata": {
        "id": "_Ly18o9gJugg",
        "colab_type": "code",
        "colab": {
          "base_uri": "https://localhost:8080/",
          "height": 34
        },
        "outputId": "ce74f99c-1546-4d7d-9b4a-0d5d1bd7a8bc"
      },
      "source": [
        "y_train_pred"
      ],
      "execution_count": 83,
      "outputs": [
        {
          "output_type": "execute_result",
          "data": {
            "text/plain": [
              "array([ True, False, False, ...,  True, False, False])"
            ]
          },
          "metadata": {
            "tags": []
          },
          "execution_count": 83
        }
      ]
    },
    {
      "cell_type": "markdown",
      "metadata": {
        "id": "XnizqzDgI-3W",
        "colab_type": "text"
      },
      "source": [
        "Just like the cross_val_score() function, cross_val_predict() performs K-fold cross-validation, but instead of returning the evaluation scores, it returns the predictions made on each test fold. This means that you get a clean prediction for each instance in the training set (\"clean\" meaning that the prediction is made by a model that never saw the data during training)"
      ]
    },
    {
      "cell_type": "markdown",
      "metadata": {
        "id": "FqaKkpbSNhCV",
        "colab_type": "text"
      },
      "source": [
        "cross_val_predict() splits the data into K parts (as does cross_val_score()) and then for i=1...k iterations: \n",
        "\n",
        "* takes the i-th part as test data and all other parts as training data\n",
        "\n",
        "* trains the model with training data (all parts except i-th part)\n",
        "\n",
        "* then by using this trained model, predicts labels for i-th part (test data)\n",
        "\n",
        "In each iteration, label of i-th part of the data gets predicted. In the end cross_val_prediction concatenates all partially predicted labels and returns them as the final result.\n"
      ]
    },
    {
      "cell_type": "code",
      "metadata": {
        "id": "CesXRvejJUHS",
        "colab_type": "code",
        "colab": {
          "base_uri": "https://localhost:8080/",
          "height": 51
        },
        "outputId": "99b62075-1263-488c-ef3c-37fc7e59d096"
      },
      "source": [
        "from sklearn.metrics import confusion_matrix\n",
        "confusion_matrix(y_train_5, y_train_pred)"
      ],
      "execution_count": 84,
      "outputs": [
        {
          "output_type": "execute_result",
          "data": {
            "text/plain": [
              "array([[53892,   687],\n",
              "       [ 1891,  3530]])"
            ]
          },
          "metadata": {
            "tags": []
          },
          "execution_count": 84
        }
      ]
    },
    {
      "cell_type": "markdown",
      "metadata": {
        "id": "4NbDNx0aO2yK",
        "colab_type": "text"
      },
      "source": [
        "Each row in a confusion matrix represents an actual class, while each column represents a predicted class. The first row of this matrix considers non-5 images (*negative class*): 53,892 of them were correctly classified as non-5s (they are called *true negatives*), while the remaining 687 were wrongly classified as 5s (*false positives*). The second row considers the images of 5s (*positive class*): 1,891 were wrongly classified as non-5s (*false negatives*), while the ramaining 3,530 were correctly classified as 5s (*true positives*). \n",
        "\n",
        "To recap:\n",
        "\n",
        "* *negative class*: first row (non-5 images)\n",
        "* *postive class*: second row (images of 5s)\n",
        "* *true negatives*: correctly classified as non 5's (52,892)\n",
        "* *true postives*: correctly classified as 5's (3,530)\n",
        "* *false postives*: wrongly classified as 5's (687)\n",
        "* *false negatives*: wrongly classified as non 5's (1,891)\n",
        "\n",
        "\n"
      ]
    },
    {
      "cell_type": "markdown",
      "metadata": {
        "id": "t1-V7SStOBv1",
        "colab_type": "text"
      },
      "source": [
        "A perfect classifier would have only true positives and true negatives, so its confusion matrix would have nonzero values only on its main diagonal"
      ]
    },
    {
      "cell_type": "code",
      "metadata": {
        "id": "Dj_tBtSjNv7U",
        "colab_type": "code",
        "colab": {
          "base_uri": "https://localhost:8080/",
          "height": 51
        },
        "outputId": "e5931de3-293a-4f4c-ff17-ef9a7d69f5da"
      },
      "source": [
        "y_train_perfect_predictions = y_train_5\n",
        "confusion_matrix(y_train_5, y_train_perfect_predictions)"
      ],
      "execution_count": 85,
      "outputs": [
        {
          "output_type": "execute_result",
          "data": {
            "text/plain": [
              "array([[54579,     0],\n",
              "       [    0,  5421]])"
            ]
          },
          "metadata": {
            "tags": []
          },
          "execution_count": 85
        }
      ]
    },
    {
      "cell_type": "markdown",
      "metadata": {
        "id": "5GHu3KHzOR6I",
        "colab_type": "text"
      },
      "source": [
        "#### Precision and Recall"
      ]
    },
    {
      "cell_type": "markdown",
      "metadata": {
        "id": "5XROMqPTOaTM",
        "colab_type": "text"
      },
      "source": [
        "**Precision = the accuracy of the positive predictions; the precision of the classifier**\n",
        "\n",
        "* precision = TP / (TP + FP)\n",
        "\n",
        "* TP = number of true positives\n",
        "* FP = number of false positives\n",
        "\n",
        "* What is the ratio of correctly classified 5's and wrongly classified 5's (false positives) + correctly classified 5's\n",
        "\n",
        "* What percentage are the actual correctly predicted 5's out of all predicted 5's\n",
        "\n",
        "* How precise was my positive predictions"
      ]
    },
    {
      "cell_type": "markdown",
      "metadata": {
        "id": "TI5ob8DkO312",
        "colab_type": "text"
      },
      "source": [
        "***Recall* (also *sensitivity* or the *true positive rate*) = the ratio of positives instances that are correctly detected by the classifier**\n",
        "\n",
        "* recall = TP / (TP + FN)\n",
        "\n",
        "* FN = false negatives\n",
        "\n",
        "* What is the ratio of correctly classified 5's and missed 5's (wrongly classified non-5's) + correctly classified 5's\n",
        "\n",
        "* Ratio of how many out of all of the positive class we classified correctly\n",
        "\n",
        "* How many actual positives did I miss?"
      ]
    },
    {
      "cell_type": "code",
      "metadata": {
        "id": "cPptrLCEU3zC",
        "colab_type": "code",
        "colab": {
          "base_uri": "https://localhost:8080/",
          "height": 34
        },
        "outputId": "d3e49021-f04a-4710-9a61-7fba09ec5dea"
      },
      "source": [
        "from sklearn.metrics import precision_score, recall_score\n",
        "precision_score(y_train_5, y_train_pred)"
      ],
      "execution_count": 86,
      "outputs": [
        {
          "output_type": "execute_result",
          "data": {
            "text/plain": [
              "0.8370879772350012"
            ]
          },
          "metadata": {
            "tags": []
          },
          "execution_count": 86
        }
      ]
    },
    {
      "cell_type": "code",
      "metadata": {
        "id": "fxxAjvkhVDRa",
        "colab_type": "code",
        "colab": {
          "base_uri": "https://localhost:8080/",
          "height": 34
        },
        "outputId": "0040eb4d-ea3f-47f9-e8b0-2472187f3bd1"
      },
      "source": [
        "recall_score(y_train_5, y_train_pred)"
      ],
      "execution_count": 87,
      "outputs": [
        {
          "output_type": "execute_result",
          "data": {
            "text/plain": [
              "0.6511713705958311"
            ]
          },
          "metadata": {
            "tags": []
          },
          "execution_count": 87
        }
      ]
    },
    {
      "cell_type": "markdown",
      "metadata": {
        "id": "CMzVTZawVQdq",
        "colab_type": "text"
      },
      "source": [
        "Precision\n",
        "* Wrongly classified approx. 17% non 5's as 5's\n",
        "* When it claims an image represents a 5, it's correct 83% of the time\n",
        "\n",
        "\n",
        "Recall\n",
        "* Wrongly classified approx 35% as non 5's even though they were 5's\n",
        "* Detects 65% of all of the 5's\n"
      ]
    },
    {
      "cell_type": "markdown",
      "metadata": {
        "id": "u3ImGWGjc9ZG",
        "colab_type": "text"
      },
      "source": [
        "##### F1 Score"
      ]
    },
    {
      "cell_type": "markdown",
      "metadata": {
        "id": "iGKvmSMxdAAM",
        "colab_type": "text"
      },
      "source": [
        "F1 score = combines precision and recall into a single metric and is a simple way to compare two classifiers\n",
        "\n",
        "The F1 score is the harmonic mean of precision and recall. Whereas the regular mean trats all values equally, the harmonic mean gives much more weight to low values. As aresult, the classifier will only get a high F1 score if both recall and precision are high."
      ]
    },
    {
      "cell_type": "markdown",
      "metadata": {
        "id": "LFyAB6Ude_F-",
        "colab_type": "text"
      },
      "source": [
        "F1 = 2 * (precision * recall) / (precision + recall)"
      ]
    },
    {
      "cell_type": "code",
      "metadata": {
        "id": "SbxVW6hTdsWd",
        "colab_type": "code",
        "colab": {
          "base_uri": "https://localhost:8080/",
          "height": 34
        },
        "outputId": "59a41ac0-736f-46ab-a362-2bf4061635fd"
      },
      "source": [
        "from sklearn.metrics import f1_score\n",
        "f1_score(y_train_5, y_train_pred)"
      ],
      "execution_count": 88,
      "outputs": [
        {
          "output_type": "execute_result",
          "data": {
            "text/plain": [
              "0.7325171197343846"
            ]
          },
          "metadata": {
            "tags": []
          },
          "execution_count": 88
        }
      ]
    },
    {
      "cell_type": "markdown",
      "metadata": {
        "id": "r62CLR6S901I",
        "colab_type": "text"
      },
      "source": [
        "The F1 score favors classifiers that have similiar precision and recall. This is not always what you want: in some contexts you mostly care about precision, and in other contexts you really care about recall. For example, if you trained a classifier to detect videos that are safe for kids, you would probably prefer a classifier that rejects many good videos (low recall) but keeps only safe ones (high precision). On the other hand, suppose you train a classifier to detect shoplifters in surveillance images: it is probably fine if your classifier has only 30% precision as long as it has 99% recall\n",
        "\n",
        "Unfortunately, you can't have it both ways: increasing precision reduces recall, and vice versa. This is called the *precision/recall trade-off*"
      ]
    },
    {
      "cell_type": "markdown",
      "metadata": {
        "id": "fklQcaK1_LHP",
        "colab_type": "text"
      },
      "source": [
        "##### Precision/Recall Trade-off"
      ]
    },
    {
      "cell_type": "markdown",
      "metadata": {
        "id": "aInfqy6J_OLf",
        "colab_type": "text"
      },
      "source": [
        "To understand this trade-off, let's look at how the SGDClassifier makes its classification decisions. For each instance, it computes a score based on a decision function. If that score is greater than a threshold, it assigns the instance to the positive class; otherwise it assigns it to the negative class. Conversly, lowering the threshold increases recall and reduces precision"
      ]
    },
    {
      "cell_type": "markdown",
      "metadata": {
        "id": "KEObX2saA2sC",
        "colab_type": "text"
      },
      "source": [
        "Scikit-Learn does not let you set the threshold directly, but it does give you access to the decision scores that it uses to make predictions. Instead of calling the classifier's predict() method, you can call its decision_function() method, which returns a score for each instance, and then use any threshold you want to make predictions base on those scores:\n"
      ]
    },
    {
      "cell_type": "code",
      "metadata": {
        "id": "VwntsafjBGjZ",
        "colab_type": "code",
        "colab": {
          "base_uri": "https://localhost:8080/",
          "height": 34
        },
        "outputId": "d422813c-1d4a-47e3-a3af-9204cc044988"
      },
      "source": [
        "y_scores = sgd_clf.decision_function([some_digit])\n",
        "y_scores"
      ],
      "execution_count": 89,
      "outputs": [
        {
          "output_type": "execute_result",
          "data": {
            "text/plain": [
              "array([2164.22030239])"
            ]
          },
          "metadata": {
            "tags": []
          },
          "execution_count": 89
        }
      ]
    },
    {
      "cell_type": "code",
      "metadata": {
        "id": "xjfMWV8CBLE3",
        "colab_type": "code",
        "colab": {
          "base_uri": "https://localhost:8080/",
          "height": 34
        },
        "outputId": "5222577c-df90-4f7b-d32d-36e2d176e6b6"
      },
      "source": [
        "threshold = 0\n",
        "y_some_digit_pred = (y_scores > threshold)\n",
        "y_some_digit_pred"
      ],
      "execution_count": 90,
      "outputs": [
        {
          "output_type": "execute_result",
          "data": {
            "text/plain": [
              "array([ True])"
            ]
          },
          "metadata": {
            "tags": []
          },
          "execution_count": 90
        }
      ]
    },
    {
      "cell_type": "markdown",
      "metadata": {
        "id": "Xq9yiOBoBoXM",
        "colab_type": "text"
      },
      "source": [
        "How do you decide which threshold to use? \n",
        "* First, use the cross_val_predict() function to get the scores of all instances in the training set, but this time specify that you want to return decision scores instead of predictions:"
      ]
    },
    {
      "cell_type": "code",
      "metadata": {
        "id": "PJaplEdUB2xF",
        "colab_type": "code",
        "colab": {}
      },
      "source": [
        "y_scores = cross_val_predict(sgd_clf, X_train, y_train_5, cv=3,\n",
        "                             method=\"decision_function\")"
      ],
      "execution_count": 0,
      "outputs": []
    },
    {
      "cell_type": "markdown",
      "metadata": {
        "id": "leRPxyFCCEYZ",
        "colab_type": "text"
      },
      "source": [
        "With these scores, use the precision_recall_curve() function to compute precision and recall for all possible thresholds:"
      ]
    },
    {
      "cell_type": "code",
      "metadata": {
        "id": "xXDn8BBdCLEF",
        "colab_type": "code",
        "colab": {}
      },
      "source": [
        "from sklearn.metrics import precision_recall_curve\n",
        "\n",
        "precisions, recalls, thresholds = precision_recall_curve(y_train_5, y_scores)"
      ],
      "execution_count": 0,
      "outputs": []
    },
    {
      "cell_type": "markdown",
      "metadata": {
        "id": "_YCmOD3tCTMo",
        "colab_type": "text"
      },
      "source": [
        "Finally, use Matplotlib to plot precision and recall as functions of the threshold value:"
      ]
    },
    {
      "cell_type": "code",
      "metadata": {
        "id": "1DKKzVgOCcwK",
        "colab_type": "code",
        "colab": {}
      },
      "source": [
        "# highlight the threshold and add the legend, axis label, and grid\n",
        "def plot_precision_recall_vs_threshold(precisions, recalls, thresholds):\n",
        "  plt.plot(thresholds, precisions[:-1], 'b--', label='Precision')\n",
        "  plt.plot(thresholds, recalls[:-1], 'g-', label='Recall')"
      ],
      "execution_count": 0,
      "outputs": []
    },
    {
      "cell_type": "code",
      "metadata": {
        "id": "yqC72KjRCsjs",
        "colab_type": "code",
        "colab": {
          "base_uri": "https://localhost:8080/",
          "height": 265
        },
        "outputId": "f7370c2e-a79e-4b8a-bc92-cd01b59e6ad2"
      },
      "source": [
        "plot_precision_recall_vs_threshold(precisions, recalls, thresholds)\n",
        "plt.show()"
      ],
      "execution_count": 94,
      "outputs": [
        {
          "output_type": "display_data",
          "data": {
            "image/png": "[encoded data removed]",
            "text/plain": [
              "<Figure size 432x288 with 1 Axes>"
            ]
          },
          "metadata": {
            "tags": []
          }
        }
      ]
    },
    {
      "cell_type": "markdown",
      "metadata": {
        "id": "FiXqL_hCDbVE",
        "colab_type": "text"
      },
      "source": [
        "Another way to select a good precision/recall trade-off is to plot precision directly against recall:"
      ]
    },
    {
      "cell_type": "code",
      "metadata": {
        "id": "C7aB77lwDinG",
        "colab_type": "code",
        "colab": {
          "base_uri": "https://localhost:8080/",
          "height": 34
        },
        "outputId": "feb86e1d-8369-4759-d6aa-3b318ab6b74d"
      },
      "source": [
        "thresholds_90_precision = thresholds[np.argmax(precisions >= 0.90)]\n",
        "thresholds_90_precision"
      ],
      "execution_count": 95,
      "outputs": [
        {
          "output_type": "execute_result",
          "data": {
            "text/plain": [
              "3370.0194991439557"
            ]
          },
          "metadata": {
            "tags": []
          },
          "execution_count": 95
        }
      ]
    },
    {
      "cell_type": "code",
      "metadata": {
        "id": "7liWxk4nETcb",
        "colab_type": "code",
        "colab": {}
      },
      "source": [
        "y_train_pred_90 = (y_scores >= thresholds_90_precision)"
      ],
      "execution_count": 0,
      "outputs": []
    },
    {
      "cell_type": "code",
      "metadata": {
        "id": "FN7E3CslEacL",
        "colab_type": "code",
        "colab": {
          "base_uri": "https://localhost:8080/",
          "height": 34
        },
        "outputId": "ea692e40-9ac0-4d1c-9686-fd1eda414792"
      },
      "source": [
        "precision_score(y_train_5, y_train_pred_90)"
      ],
      "execution_count": 97,
      "outputs": [
        {
          "output_type": "execute_result",
          "data": {
            "text/plain": [
              "0.9000345901072293"
            ]
          },
          "metadata": {
            "tags": []
          },
          "execution_count": 97
        }
      ]
    },
    {
      "cell_type": "code",
      "metadata": {
        "id": "wpt3DbumEdjy",
        "colab_type": "code",
        "colab": {
          "base_uri": "https://localhost:8080/",
          "height": 34
        },
        "outputId": "64155979-77a0-4f0b-d578-96e15a86d124"
      },
      "source": [
        "recall_score(y_train_5, y_train_pred_90)"
      ],
      "execution_count": 98,
      "outputs": [
        {
          "output_type": "execute_result",
          "data": {
            "text/plain": [
              "0.4799852425751706"
            ]
          },
          "metadata": {
            "tags": []
          },
          "execution_count": 98
        }
      ]
    }
  ]
}