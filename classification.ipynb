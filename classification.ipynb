{
  "nbformat": 4,
  "nbformat_minor": 0,
  "metadata": {
    "colab": {
      "name": "classification.ipynb",
      "provenance": [],
      "collapsed_sections": [
        "uuSkU6SgBco_",
        "UpG0u5zcD_B8",
        "9NJ3oSnYEUNo",
        "8rLYeeJqIAkA",
        "u3ImGWGjc9ZG"
      ],
      "toc_visible": true,
      "authorship_tag": "ABX9TyNZck4kabcR/mfz1nwKre0t",
      "include_colab_link": true
    },
    "kernelspec": {
      "name": "python3",
      "display_name": "Python 3"
    }
  },
  "cells": [
    {
      "cell_type": "markdown",
      "metadata": {
        "id": "view-in-github",
        "colab_type": "text"
      },
      "source": [
        "<a href=\"https://colab.research.google.com/github/naraB/handson-ml-notes/blob/master/classification.ipynb\" target=\"_parent\"><img src=\"https://colab.research.google.com/assets/colab-badge.svg\" alt=\"Open In Colab\"/></a>"
      ]
    },
    {
      "cell_type": "markdown",
      "metadata": {
        "id": "EYR0aG7W1rsy",
        "colab_type": "text"
      },
      "source": [
        "# Classification"
      ]
    },
    {
      "cell_type": "code",
      "metadata": {
        "id": "VPCy7XMxAMhg",
        "colab_type": "code",
        "colab": {}
      },
      "source": [
        "import numpy as np"
      ],
      "execution_count": 0,
      "outputs": []
    },
    {
      "cell_type": "markdown",
      "metadata": {
        "id": "lkDgPLge9BoU",
        "colab_type": "text"
      },
      "source": [
        "## Downloading the dataset"
      ]
    },
    {
      "cell_type": "code",
      "metadata": {
        "id": "sChauhkH9SOS",
        "colab_type": "code",
        "outputId": "40b44a27-d6e9-417a-df99-9b8a22b7aa53",
        "colab": {
          "base_uri": "https://localhost:8080/",
          "height": 54
        }
      },
      "source": [
        "from sklearn.datasets import fetch_openml\n",
        "mnist = fetch_openml('mnist_784', version=1)\n",
        "mnist.keys()"
      ],
      "execution_count": 2,
      "outputs": [
        {
          "output_type": "execute_result",
          "data": {
            "text/plain": [
              "dict_keys(['data', 'target', 'frame', 'feature_names', 'target_names', 'DESCR', 'details', 'categories', 'url'])"
            ]
          },
          "metadata": {
            "tags": []
          },
          "execution_count": 2
        }
      ]
    },
    {
      "cell_type": "markdown",
      "metadata": {
        "id": "UT_u_YBF9le2",
        "colab_type": "text"
      },
      "source": [
        "Datasets loaded by Scikit-Learn generally have a similar dictionary structure: \n",
        "\n",
        "* *DESCR* key describing the dataset\n",
        "* *data* key containing an array with one row per instance and one column per feature\n",
        "* *target* key containing an array with labels"
      ]
    },
    {
      "cell_type": "code",
      "metadata": {
        "id": "fs2JMtJk9729",
        "colab_type": "code",
        "outputId": "a3fe281b-acc7-437e-dc54-6c50040dda14",
        "colab": {
          "base_uri": "https://localhost:8080/",
          "height": 51
        }
      },
      "source": [
        "X,y = mnist['data'], mnist['target']\n",
        "print('X shape', X.shape)\n",
        "print('y shape', y.shape)"
      ],
      "execution_count": 3,
      "outputs": [
        {
          "output_type": "stream",
          "text": [
            "X shape (70000, 784)\n",
            "y shape (70000,)\n"
          ],
          "name": "stdout"
        }
      ]
    },
    {
      "cell_type": "markdown",
      "metadata": {
        "id": "OvWFx80q-L5s",
        "colab_type": "text"
      },
      "source": [
        "There are 70,000 images, and each image has 784 features. This is because each image is 28 * 28 pixels, and each feature simply represents one pixel's instensity, from 0 (white) to 255 (black). Lets take apeek at one digit from the dataset. All we need to do is grab an instance's feature vector, reshapre it to a 28 * 28 array, and display it using Matplotlib's imhsow() function:"
      ]
    },
    {
      "cell_type": "code",
      "metadata": {
        "id": "y2PoIlda_Nhh",
        "colab_type": "code",
        "outputId": "a4043eeb-dfd3-4280-96c1-bf209f54ae52",
        "colab": {
          "base_uri": "https://localhost:8080/",
          "height": 265
        }
      },
      "source": [
        "import matplotlib as mpl\n",
        "import matplotlib.pyplot as plt\n",
        "\n",
        "some_digit = X[0]\n",
        "print(some_digit.shape)\n",
        "some_digit_image = some_digit.reshape(28, 28)\n",
        "plt.imshow(some_digit_image, cmap=\"binary\")\n",
        "plt.axis(\"off\")\n",
        "plt.show()"
      ],
      "execution_count": 4,
      "outputs": [
        {
          "output_type": "stream",
          "text": [
            "(784,)\n"
          ],
          "name": "stdout"
        },
        {
          "output_type": "display_data",
          "data": {
            "image/png": "[encoded data removed]",
            "text/plain": [
              "<Figure size 432x288 with 1 Axes>"
            ]
          },
          "metadata": {
            "tags": []
          }
        }
      ]
    },
    {
      "cell_type": "code",
      "metadata": {
        "id": "VTEVu5sh_30r",
        "colab_type": "code",
        "outputId": "e17390f6-1581-4e1f-b658-7531ae46a076",
        "colab": {
          "base_uri": "https://localhost:8080/"
        }
      },
      "source": [
        "y[0]"
      ],
      "execution_count": 0,
      "outputs": [
        {
          "output_type": "execute_result",
          "data": {
            "text/plain": [
              "'5'"
            ]
          },
          "metadata": {
            "tags": []
          },
          "execution_count": 5
        }
      ]
    },
    {
      "cell_type": "markdown",
      "metadata": {
        "id": "IwFfbB4A_7xc",
        "colab_type": "text"
      },
      "source": [
        "Note that the label is a string. Most ML algorithms expect numbers, so lets cast y to integer:"
      ]
    },
    {
      "cell_type": "code",
      "metadata": {
        "id": "4x9hmS1mABfM",
        "colab_type": "code",
        "colab": {}
      },
      "source": [
        "y = y.astype(np.uint8)"
      ],
      "execution_count": 0,
      "outputs": []
    },
    {
      "cell_type": "markdown",
      "metadata": {
        "id": "er-Ye_SGARtB",
        "colab_type": "text"
      },
      "source": [
        "## Creating test and train set"
      ]
    },
    {
      "cell_type": "markdown",
      "metadata": {
        "id": "-o54XC5EAVh4",
        "colab_type": "text"
      },
      "source": [
        "The MNIST dataset is already split into a training set (the first 60,000 images) and test set (the last 10,000 images)"
      ]
    },
    {
      "cell_type": "code",
      "metadata": {
        "id": "_l8gMcJaAfEF",
        "colab_type": "code",
        "colab": {}
      },
      "source": [
        "X_train, X_test, y_train, y_test = X[:60000], X[60000:], y[:60000], y[60000:]"
      ],
      "execution_count": 0,
      "outputs": []
    },
    {
      "cell_type": "markdown",
      "metadata": {
        "id": "9LiYqk_3AtBQ",
        "colab_type": "text"
      },
      "source": [
        "The training data is already shuffled for us"
      ]
    },
    {
      "cell_type": "markdown",
      "metadata": {
        "id": "XFgyoDBBA3KW",
        "colab_type": "text"
      },
      "source": [
        "## Binary Classification"
      ]
    },
    {
      "cell_type": "markdown",
      "metadata": {
        "id": "NA0Km9muBiB-",
        "colab_type": "text"
      },
      "source": [
        "Let's simplify the problem for now and only tr to identify one digit - for example, te number 5. This \"5-detector\" will be an example of a binary classifier, capable of distinguishing between just two classes, 5 and not-5"
      ]
    },
    {
      "cell_type": "code",
      "metadata": {
        "id": "iVBzanVGByzc",
        "colab_type": "code",
        "colab": {}
      },
      "source": [
        "y_train_5 = (y_train == 5)\n",
        "y_test_5 = (y_test == 5)"
      ],
      "execution_count": 0,
      "outputs": []
    },
    {
      "cell_type": "markdown",
      "metadata": {
        "id": "uuSkU6SgBco_",
        "colab_type": "text"
      },
      "source": [
        "### Training"
      ]
    },
    {
      "cell_type": "markdown",
      "metadata": {
        "id": "VuVASG1HB33D",
        "colab_type": "text"
      },
      "source": [
        "Let's use a *Stochastic Gradient Descent* (SGD) classifier, Scikit-learn's SGDClassifier class.\n",
        "\n",
        "The classifier has the advantage of being capable of handling very large datasets efficiently. This is in part because SGD deals with training instances independently, one at a time (which also makes SGD well suited for online learning), as we will see later"
      ]
    },
    {
      "cell_type": "code",
      "metadata": {
        "id": "dcK_jNO-Clii",
        "colab_type": "code",
        "outputId": "b4462dc4-16e3-476b-d14d-0b1adb31580c",
        "colab": {
          "base_uri": "https://localhost:8080/",
          "height": 119
        }
      },
      "source": [
        "from sklearn.linear_model import SGDClassifier\n",
        "\n",
        "sgd_clf = SGDClassifier(random_state=42)\n",
        "sgd_clf.fit(X_train, y_train_5)"
      ],
      "execution_count": 14,
      "outputs": [
        {
          "output_type": "execute_result",
          "data": {
            "text/plain": [
              "SGDClassifier(alpha=0.0001, average=False, class_weight=None,\n",
              "              early_stopping=False, epsilon=0.1, eta0=0.0, fit_intercept=True,\n",
              "              l1_ratio=0.15, learning_rate='optimal', loss='hinge',\n",
              "              max_iter=1000, n_iter_no_change=5, n_jobs=None, penalty='l2',\n",
              "              power_t=0.5, random_state=42, shuffle=True, tol=0.001,\n",
              "              validation_fraction=0.1, verbose=0, warm_start=False)"
            ]
          },
          "metadata": {
            "tags": []
          },
          "execution_count": 14
        }
      ]
    },
    {
      "cell_type": "markdown",
      "metadata": {
        "id": "8XDnVDrrC5Vw",
        "colab_type": "text"
      },
      "source": [
        "Now we can use it to detect images of the number 5:"
      ]
    },
    {
      "cell_type": "code",
      "metadata": {
        "id": "xy4JKcDmD1lX",
        "colab_type": "code",
        "outputId": "21aa394f-62fc-4743-b832-3a7a01efbb09",
        "colab": {
          "base_uri": "https://localhost:8080/"
        }
      },
      "source": [
        "sgd_clf.predict([some_digit])"
      ],
      "execution_count": 0,
      "outputs": [
        {
          "output_type": "execute_result",
          "data": {
            "text/plain": [
              "array([ True])"
            ]
          },
          "metadata": {
            "tags": []
          },
          "execution_count": 10
        }
      ]
    },
    {
      "cell_type": "markdown",
      "metadata": {
        "id": "UpG0u5zcD_B8",
        "colab_type": "text"
      },
      "source": [
        "### Performance Measures"
      ]
    },
    {
      "cell_type": "markdown",
      "metadata": {
        "id": "LNm9IpZ-ED37",
        "colab_type": "text"
      },
      "source": [
        "Evaluating a classifier is often significantly trickier than evaluating a regressor, so we will spend a large part of this chapter on this topic. There are many performance measures available."
      ]
    },
    {
      "cell_type": "markdown",
      "metadata": {
        "id": "9NJ3oSnYEUNo",
        "colab_type": "text"
      },
      "source": [
        "#### Measuring Accuracy Using Cross-Validation"
      ]
    },
    {
      "cell_type": "markdown",
      "metadata": {
        "id": "1gSRtkseEdGY",
        "colab_type": "text"
      },
      "source": [
        "A good way to evaluate a model is to use cross-validation"
      ]
    },
    {
      "cell_type": "code",
      "metadata": {
        "id": "uGHNQQ5DEhb4",
        "colab_type": "code",
        "outputId": "0ab4ed13-d139-434d-9905-e4c97367a901",
        "colab": {
          "base_uri": "https://localhost:8080/"
        }
      },
      "source": [
        "from sklearn.model_selection import cross_val_score\n",
        "\n",
        "cross_val_score(sgd_clf, X_train, y_train_5, cv=3, scoring=\"accuracy\")"
      ],
      "execution_count": 0,
      "outputs": [
        {
          "output_type": "execute_result",
          "data": {
            "text/plain": [
              "array([0.95035, 0.96035, 0.9604 ])"
            ]
          },
          "metadata": {
            "tags": []
          },
          "execution_count": 11
        }
      ]
    },
    {
      "cell_type": "markdown",
      "metadata": {
        "id": "Wle-xs31Hzqq",
        "colab_type": "text"
      },
      "source": [
        "Accuracy is generally not the preferred performance measure for classifiers, especially when you are dealing with skewed datasets (i.e., when some classes are much more frequent than others)"
      ]
    },
    {
      "cell_type": "markdown",
      "metadata": {
        "id": "8rLYeeJqIAkA",
        "colab_type": "text"
      },
      "source": [
        "#### Confusion Matrix"
      ]
    },
    {
      "cell_type": "markdown",
      "metadata": {
        "id": "efxC3Q1jIEJI",
        "colab_type": "text"
      },
      "source": [
        "A much better way to evaluate the performance of a classifier is to look at the confusion matrix. The general idea is to count the number of times instances of class A are classified as class B. For example, to know the number of times the classifier confused images of 5s with 3s, you would look in the fifth row and third column of the confusion matrix.\n",
        "\n",
        "To compute the confusion matrix, we first need to have a set of predictions so that they can be compared to the actual targets."
      ]
    },
    {
      "cell_type": "code",
      "metadata": {
        "id": "kzyvqnQcIlQk",
        "colab_type": "code",
        "colab": {}
      },
      "source": [
        "from sklearn.model_selection import cross_val_predict\n",
        "\n",
        "y_train_pred = cross_val_predict(sgd_clf, X_train, y_train_5, cv=3)"
      ],
      "execution_count": 0,
      "outputs": []
    },
    {
      "cell_type": "code",
      "metadata": {
        "id": "_Ly18o9gJugg",
        "colab_type": "code",
        "outputId": "163846c7-4be9-42ee-932c-62aad42a9075",
        "colab": {
          "base_uri": "https://localhost:8080/"
        }
      },
      "source": [
        "y_train_pred"
      ],
      "execution_count": 0,
      "outputs": [
        {
          "output_type": "execute_result",
          "data": {
            "text/plain": [
              "array([ True, False, False, ...,  True, False, False])"
            ]
          },
          "metadata": {
            "tags": []
          },
          "execution_count": 13
        }
      ]
    },
    {
      "cell_type": "markdown",
      "metadata": {
        "id": "XnizqzDgI-3W",
        "colab_type": "text"
      },
      "source": [
        "Just like the cross_val_score() function, cross_val_predict() performs K-fold cross-validation, but instead of returning the evaluation scores, it returns the predictions made on each test fold. This means that you get a clean prediction for each instance in the training set (\"clean\" meaning that the prediction is made by a model that never saw the data during training)"
      ]
    },
    {
      "cell_type": "markdown",
      "metadata": {
        "id": "FqaKkpbSNhCV",
        "colab_type": "text"
      },
      "source": [
        "cross_val_predict() splits the data into K parts (as does cross_val_score()) and then for i=1...k iterations: \n",
        "\n",
        "* takes the i-th part as test data and all other parts as training data\n",
        "\n",
        "* trains the model with training data (all parts except i-th part)\n",
        "\n",
        "* then by using this trained model, predicts labels for i-th part (test data)\n",
        "\n",
        "In each iteration, label of i-th part of the data gets predicted. In the end cross_val_prediction concatenates all partially predicted labels and returns them as the final result.\n"
      ]
    },
    {
      "cell_type": "code",
      "metadata": {
        "id": "CesXRvejJUHS",
        "colab_type": "code",
        "outputId": "dccf8c3f-aef1-4756-8e40-672bdb69f583",
        "colab": {
          "base_uri": "https://localhost:8080/"
        }
      },
      "source": [
        "from sklearn.metrics import confusion_matrix\n",
        "confusion_matrix(y_train_5, y_train_pred)"
      ],
      "execution_count": 0,
      "outputs": [
        {
          "output_type": "execute_result",
          "data": {
            "text/plain": [
              "array([[53892,   687],\n",
              "       [ 1891,  3530]])"
            ]
          },
          "metadata": {
            "tags": []
          },
          "execution_count": 14
        }
      ]
    },
    {
      "cell_type": "markdown",
      "metadata": {
        "id": "4NbDNx0aO2yK",
        "colab_type": "text"
      },
      "source": [
        "Each row in a confusion matrix represents an actual class, while each column represents a predicted class. The first row of this matrix considers non-5 images (*negative class*): 53,892 of them were correctly classified as non-5s (they are called *true negatives*), while the remaining 687 were wrongly classified as 5s (*false positives*). The second row considers the images of 5s (*positive class*): 1,891 were wrongly classified as non-5s (*false negatives*), while the ramaining 3,530 were correctly classified as 5s (*true positives*). \n",
        "\n",
        "To recap:\n",
        "\n",
        "* *negative class*: first row (non-5 images)\n",
        "* *postive class*: second row (images of 5s)\n",
        "* *true negatives*: correctly classified as non 5's (52,892)\n",
        "* *true postives*: correctly classified as 5's (3,530)\n",
        "* *false postives*: wrongly classified as 5's (687)\n",
        "* *false negatives*: wrongly classified as non 5's (1,891)\n",
        "\n",
        "\n"
      ]
    },
    {
      "cell_type": "markdown",
      "metadata": {
        "id": "t1-V7SStOBv1",
        "colab_type": "text"
      },
      "source": [
        "A perfect classifier would have only true positives and true negatives, so its confusion matrix would have nonzero values only on its main diagonal"
      ]
    },
    {
      "cell_type": "code",
      "metadata": {
        "id": "Dj_tBtSjNv7U",
        "colab_type": "code",
        "outputId": "b6e6c2b6-d9cd-4386-beb2-7104a3601ee5",
        "colab": {
          "base_uri": "https://localhost:8080/"
        }
      },
      "source": [
        "y_train_perfect_predictions = y_train_5\n",
        "confusion_matrix(y_train_5, y_train_perfect_predictions)"
      ],
      "execution_count": 0,
      "outputs": [
        {
          "output_type": "execute_result",
          "data": {
            "text/plain": [
              "array([[54579,     0],\n",
              "       [    0,  5421]])"
            ]
          },
          "metadata": {
            "tags": []
          },
          "execution_count": 15
        }
      ]
    },
    {
      "cell_type": "markdown",
      "metadata": {
        "id": "5GHu3KHzOR6I",
        "colab_type": "text"
      },
      "source": [
        "#### Precision and Recall"
      ]
    },
    {
      "cell_type": "markdown",
      "metadata": {
        "id": "5XROMqPTOaTM",
        "colab_type": "text"
      },
      "source": [
        "**Precision = the accuracy of the positive predictions; the precision of the classifier**\n",
        "\n",
        "* precision = TP / (TP + FP)\n",
        "\n",
        "* TP = number of true positives\n",
        "* FP = number of false positives\n",
        "\n",
        "* What is the ratio of correctly classified 5's and wrongly classified 5's (false positives) + correctly classified 5's\n",
        "\n",
        "* What percentage are the actual correctly predicted 5's out of all predicted 5's\n",
        "\n",
        "* How precise was my positive predictions"
      ]
    },
    {
      "cell_type": "markdown",
      "metadata": {
        "id": "TI5ob8DkO312",
        "colab_type": "text"
      },
      "source": [
        "***Recall* (also *sensitivity* or the *true positive rate*) = the ratio of positives instances that are correctly detected by the classifier**\n",
        "\n",
        "* recall = TP / (TP + FN)\n",
        "\n",
        "* FN = false negatives\n",
        "\n",
        "* What is the ratio of correctly classified 5's and missed 5's (wrongly classified non-5's) + correctly classified 5's\n",
        "\n",
        "* Ratio of how many out of all of the positive class we classified correctly\n",
        "\n",
        "* How many actual positives did I miss?"
      ]
    },
    {
      "cell_type": "code",
      "metadata": {
        "id": "cPptrLCEU3zC",
        "colab_type": "code",
        "outputId": "1165c6ef-ecf0-460f-bca6-00e3de4e4931",
        "colab": {
          "base_uri": "https://localhost:8080/",
          "height": 34
        }
      },
      "source": [
        "from sklearn.metrics import precision_score, recall_score\n",
        "precision_score(y_train_5, y_train_pred)"
      ],
      "execution_count": 0,
      "outputs": [
        {
          "output_type": "execute_result",
          "data": {
            "text/plain": [
              "0.8370879772350012"
            ]
          },
          "metadata": {
            "tags": []
          },
          "execution_count": 16
        }
      ]
    },
    {
      "cell_type": "code",
      "metadata": {
        "id": "fxxAjvkhVDRa",
        "colab_type": "code",
        "outputId": "00c578df-df4c-4d34-d81d-80792d2f870e",
        "colab": {
          "base_uri": "https://localhost:8080/",
          "height": 34
        }
      },
      "source": [
        "recall_score(y_train_5, y_train_pred)"
      ],
      "execution_count": 0,
      "outputs": [
        {
          "output_type": "execute_result",
          "data": {
            "text/plain": [
              "0.6511713705958311"
            ]
          },
          "metadata": {
            "tags": []
          },
          "execution_count": 17
        }
      ]
    },
    {
      "cell_type": "markdown",
      "metadata": {
        "id": "CMzVTZawVQdq",
        "colab_type": "text"
      },
      "source": [
        "Precision\n",
        "* Wrongly classified approx. 17% non 5's as 5's\n",
        "* When it claims an image represents a 5, it's correct 83% of the time\n",
        "\n",
        "\n",
        "Recall\n",
        "* Wrongly classified approx 35% as non 5's even though they were 5's\n",
        "* Detects 65% of all of the 5's\n"
      ]
    },
    {
      "cell_type": "markdown",
      "metadata": {
        "id": "u3ImGWGjc9ZG",
        "colab_type": "text"
      },
      "source": [
        "##### F1 Score"
      ]
    },
    {
      "cell_type": "markdown",
      "metadata": {
        "id": "iGKvmSMxdAAM",
        "colab_type": "text"
      },
      "source": [
        "F1 score = combines precision and recall into a single metric and is a simple way to compare two classifiers\n",
        "\n",
        "The F1 score is the harmonic mean of precision and recall. Whereas the regular mean trats all values equally, the harmonic mean gives much more weight to low values. As aresult, the classifier will only get a high F1 score if both recall and precision are high."
      ]
    },
    {
      "cell_type": "markdown",
      "metadata": {
        "id": "LFyAB6Ude_F-",
        "colab_type": "text"
      },
      "source": [
        "F1 = 2 * (precision * recall) / (precision + recall)"
      ]
    },
    {
      "cell_type": "code",
      "metadata": {
        "id": "SbxVW6hTdsWd",
        "colab_type": "code",
        "outputId": "ff8becd1-1f52-46f6-e184-fdb154fcdd5c",
        "colab": {
          "base_uri": "https://localhost:8080/"
        }
      },
      "source": [
        "from sklearn.metrics import f1_score\n",
        "f1_score(y_train_5, y_train_pred)"
      ],
      "execution_count": 0,
      "outputs": [
        {
          "output_type": "execute_result",
          "data": {
            "text/plain": [
              "0.7325171197343846"
            ]
          },
          "metadata": {
            "tags": []
          },
          "execution_count": 18
        }
      ]
    },
    {
      "cell_type": "markdown",
      "metadata": {
        "id": "r62CLR6S901I",
        "colab_type": "text"
      },
      "source": [
        "The F1 score favors classifiers that have similiar precision and recall. This is not always what you want: in some contexts you mostly care about precision, and in other contexts you really care about recall. For example, if you trained a classifier to detect videos that are safe for kids, you would probably prefer a classifier that rejects many good videos (low recall) but keeps only safe ones (high precision). On the other hand, suppose you train a classifier to detect shoplifters in surveillance images: it is probably fine if your classifier has only 30% precision as long as it has 99% recall\n",
        "\n",
        "Unfortunately, you can't have it both ways: increasing precision reduces recall, and vice versa. This is called the *precision/recall trade-off*"
      ]
    },
    {
      "cell_type": "markdown",
      "metadata": {
        "id": "fklQcaK1_LHP",
        "colab_type": "text"
      },
      "source": [
        "##### Precision/Recall Trade-off"
      ]
    },
    {
      "cell_type": "markdown",
      "metadata": {
        "id": "aInfqy6J_OLf",
        "colab_type": "text"
      },
      "source": [
        "To understand this trade-off, let's look at how the SGDClassifier makes its classification decisions. For each instance, it computes a score based on a decision function. If that score is greater than a threshold, it assigns the instance to the positive class; otherwise it assigns it to the negative class. Conversly, lowering the threshold increases recall and reduces precision"
      ]
    },
    {
      "cell_type": "markdown",
      "metadata": {
        "id": "KEObX2saA2sC",
        "colab_type": "text"
      },
      "source": [
        "Scikit-Learn does not let you set the threshold directly, but it does gives you access to the decision scores that it uses to make predictions. Instead of calling the classifier's predict() method, you can call its decision_function() method, which returns a score for each instance, and then use any threshold you want to make predictions base on those scores:\n"
      ]
    },
    {
      "cell_type": "code",
      "metadata": {
        "id": "VwntsafjBGjZ",
        "colab_type": "code",
        "outputId": "f57f39a1-570b-49e4-eb17-7a45fd15818b",
        "colab": {
          "base_uri": "https://localhost:8080/",
          "height": 34
        }
      },
      "source": [
        "y_scores = sgd_clf.decision_function([some_digit])\n",
        "y_scores"
      ],
      "execution_count": 0,
      "outputs": [
        {
          "output_type": "execute_result",
          "data": {
            "text/plain": [
              "array([2164.22030239])"
            ]
          },
          "metadata": {
            "tags": []
          },
          "execution_count": 19
        }
      ]
    },
    {
      "cell_type": "code",
      "metadata": {
        "id": "xjfMWV8CBLE3",
        "colab_type": "code",
        "outputId": "fe8ec49a-7c6e-41b0-9423-fd28f74da21a",
        "colab": {
          "base_uri": "https://localhost:8080/",
          "height": 34
        }
      },
      "source": [
        "threshold = 0\n",
        "y_some_digit_pred = (y_scores > threshold)\n",
        "y_some_digit_pred"
      ],
      "execution_count": 0,
      "outputs": [
        {
          "output_type": "execute_result",
          "data": {
            "text/plain": [
              "array([ True])"
            ]
          },
          "metadata": {
            "tags": []
          },
          "execution_count": 20
        }
      ]
    },
    {
      "cell_type": "markdown",
      "metadata": {
        "id": "Xq9yiOBoBoXM",
        "colab_type": "text"
      },
      "source": [
        "How do you decide which threshold to use? \n",
        "* First, use the cross_val_predict() function to get the scores of all instances in the training set, but this time specify that you want to return decision scores instead of predictions:"
      ]
    },
    {
      "cell_type": "code",
      "metadata": {
        "id": "PJaplEdUB2xF",
        "colab_type": "code",
        "colab": {}
      },
      "source": [
        "y_scores = cross_val_predict(sgd_clf, X_train, y_train_5, cv=3,\n",
        "                             method=\"decision_function\")"
      ],
      "execution_count": 0,
      "outputs": []
    },
    {
      "cell_type": "markdown",
      "metadata": {
        "id": "leRPxyFCCEYZ",
        "colab_type": "text"
      },
      "source": [
        "With these scores, use the precision_recall_curve() function to compute precision and recall for all possible thresholds:"
      ]
    },
    {
      "cell_type": "code",
      "metadata": {
        "id": "xXDn8BBdCLEF",
        "colab_type": "code",
        "colab": {}
      },
      "source": [
        "from sklearn.metrics import precision_recall_curve\n",
        "\n",
        "precisions, recalls, thresholds = precision_recall_curve(y_train_5, y_scores)"
      ],
      "execution_count": 0,
      "outputs": []
    },
    {
      "cell_type": "markdown",
      "metadata": {
        "id": "_YCmOD3tCTMo",
        "colab_type": "text"
      },
      "source": [
        "Finally, use Matplotlib to plot precision and recall as functions of the threshold value:"
      ]
    },
    {
      "cell_type": "code",
      "metadata": {
        "id": "1DKKzVgOCcwK",
        "colab_type": "code",
        "colab": {}
      },
      "source": [
        "# highlight the threshold and add the legend, axis label, and grid\n",
        "def plot_precision_recall_vs_threshold(precisions, recalls, thresholds):\n",
        "  plt.plot(thresholds, precisions[:-1], \"b--\", label=\"Precision\")\n",
        "  plt.plot(thresholds, recalls[:-1], \"g-\", label=\"Recall\")\n",
        "  plt.legend(loc=\"lower right\")"
      ],
      "execution_count": 0,
      "outputs": []
    },
    {
      "cell_type": "code",
      "metadata": {
        "id": "yqC72KjRCsjs",
        "colab_type": "code",
        "outputId": "dc1d27ec-6cba-47cf-fd9e-8d990ec20b76",
        "colab": {
          "base_uri": "https://localhost:8080/",
          "height": 265
        }
      },
      "source": [
        "plot_precision_recall_vs_threshold(precisions, recalls, thresholds)\n",
        "plt.show()"
      ],
      "execution_count": 0,
      "outputs": [
        {
          "output_type": "display_data",
          "data": {
            "image/png": "[encoded data removed]",
            "text/plain": [
              "<Figure size 432x288 with 1 Axes>"
            ]
          },
          "metadata": {
            "tags": []
          }
        }
      ]
    },
    {
      "cell_type": "markdown",
      "metadata": {
        "id": "FiXqL_hCDbVE",
        "colab_type": "text"
      },
      "source": [
        "Another way to select a good precision/recall trade-off is to plot precision directly against recall:"
      ]
    },
    {
      "cell_type": "code",
      "metadata": {
        "id": "C7aB77lwDinG",
        "colab_type": "code",
        "outputId": "618310b9-5dc0-4a30-cf90-5ed5018cb5fe",
        "colab": {
          "base_uri": "https://localhost:8080/",
          "height": 34
        }
      },
      "source": [
        "thresholds_90_precision = thresholds[np.argmax(precisions >= 0.90)]\n",
        "thresholds_90_precision"
      ],
      "execution_count": 0,
      "outputs": [
        {
          "output_type": "execute_result",
          "data": {
            "text/plain": [
              "3370.0194991439557"
            ]
          },
          "metadata": {
            "tags": []
          },
          "execution_count": 25
        }
      ]
    },
    {
      "cell_type": "code",
      "metadata": {
        "id": "7liWxk4nETcb",
        "colab_type": "code",
        "colab": {}
      },
      "source": [
        "y_train_pred_90 = (y_scores >= thresholds_90_precision)"
      ],
      "execution_count": 0,
      "outputs": []
    },
    {
      "cell_type": "code",
      "metadata": {
        "id": "FN7E3CslEacL",
        "colab_type": "code",
        "outputId": "a335b2e0-6b4c-4662-fb65-def979aac756",
        "colab": {
          "base_uri": "https://localhost:8080/",
          "height": 34
        }
      },
      "source": [
        "precision_score(y_train_5, y_train_pred_90)"
      ],
      "execution_count": 0,
      "outputs": [
        {
          "output_type": "execute_result",
          "data": {
            "text/plain": [
              "0.9000345901072293"
            ]
          },
          "metadata": {
            "tags": []
          },
          "execution_count": 27
        }
      ]
    },
    {
      "cell_type": "code",
      "metadata": {
        "id": "wpt3DbumEdjy",
        "colab_type": "code",
        "outputId": "e3dc751e-cb00-4e6e-d439-7378f4d034df",
        "colab": {
          "base_uri": "https://localhost:8080/",
          "height": 34
        }
      },
      "source": [
        "recall_score(y_train_5, y_train_pred_90)"
      ],
      "execution_count": 0,
      "outputs": [
        {
          "output_type": "execute_result",
          "data": {
            "text/plain": [
              "0.4799852425751706"
            ]
          },
          "metadata": {
            "tags": []
          },
          "execution_count": 28
        }
      ]
    },
    {
      "cell_type": "markdown",
      "metadata": {
        "id": "1DGjVCH1OAnY",
        "colab_type": "text"
      },
      "source": [
        "##### The ROC Curve"
      ]
    },
    {
      "cell_type": "markdown",
      "metadata": {
        "id": "V0RDnVsmOFZ5",
        "colab_type": "text"
      },
      "source": [
        "***ROC* (reciever operating characteristic) curve plots the *true positive rate* (another name for recall) against the *false positive rate* (FPR).**\n",
        "\n",
        "* The FPR (false positive rate) is the ratio of negative instances that are incorrectly classified as positive. It is equal to 1 - the *true negative rate* (TNR)\n",
        "\n",
        "* The TNR (true negative rate) is the ratio of negative instances that are correctly classified as negative. It is also called specificy. Hence, the ROC curve plots recall versus 1 - specificy"
      ]
    },
    {
      "cell_type": "code",
      "metadata": {
        "id": "k8T2cLqhQbgA",
        "colab_type": "code",
        "outputId": "0fcd4eb0-0d66-43b9-e912-236bd8d695bb",
        "colab": {
          "base_uri": "https://localhost:8080/",
          "height": 68
        }
      },
      "source": [
        "conf_matr = confusion_matrix(y_train_5, y_train_pred)\n",
        "fpr = conf_matr[0][1] / (conf_matr[0][0] + conf_matr[0][1]) # false positives / negatives\n",
        "tnr = conf_matr[0][0] / (conf_matr[0][0] + conf_matr[0][1])\n",
        "print('fpr', fpr)\n",
        "print('tnr', tnr)\n",
        "print('1 - tnr', 1-tnr)\n"
      ],
      "execution_count": 0,
      "outputs": [
        {
          "output_type": "stream",
          "text": [
            "fpr 0.012587258835815972\n",
            "tnr 0.987412741164184\n",
            "1 - tnr 0.012587258835816018\n"
          ],
          "name": "stdout"
        }
      ]
    },
    {
      "cell_type": "code",
      "metadata": {
        "id": "APjHm6s1O6H0",
        "colab_type": "code",
        "colab": {}
      },
      "source": [
        "from sklearn.metrics import roc_curve\n",
        "\n",
        "fpr, tpr, thresholds = roc_curve(y_train_5, y_scores)"
      ],
      "execution_count": 0,
      "outputs": []
    },
    {
      "cell_type": "code",
      "metadata": {
        "id": "DyQAH6vYP2cw",
        "colab_type": "code",
        "colab": {}
      },
      "source": [
        "def plot_roc_curve(fpr, tpr, label=None):\n",
        "  plt.plot(fpr, tpr, linewidth=2, label=label)\n",
        "  plt.plot([0, 1], [0, 1], 'k--')"
      ],
      "execution_count": 0,
      "outputs": []
    },
    {
      "cell_type": "markdown",
      "metadata": {
        "id": "PFMJ7GpASKKX",
        "colab_type": "text"
      },
      "source": [
        "Once again there is a trade-off: the higher the recall (TPR), the more false positives (FPR) the classifier produces. The dotted line represents the ROC curve of a purely random classifier; a good classifier moves toward the top-left corner ad stays as far away from that line as possible"
      ]
    },
    {
      "cell_type": "code",
      "metadata": {
        "id": "MIAGIc0iQJnw",
        "colab_type": "code",
        "outputId": "5af068c5-1492-402d-9b30-108523cc4084",
        "colab": {
          "base_uri": "https://localhost:8080/",
          "height": 265
        }
      },
      "source": [
        "plot_roc_curve(fpr, tpr)\n",
        "plt.show()"
      ],
      "execution_count": 0,
      "outputs": [
        {
          "output_type": "display_data",
          "data": {
            "image/png": "[encoded data removed]",
            "text/plain": [
              "<Figure size 432x288 with 1 Axes>"
            ]
          },
          "metadata": {
            "tags": []
          }
        }
      ]
    },
    {
      "cell_type": "markdown",
      "metadata": {
        "id": "w_yhTB2yTFYl",
        "colab_type": "text"
      },
      "source": [
        "One way to compare classifiers is to measure the *area under the curve* (AUC). A perfect classifier will have a ROC AUC equal to 1, whereas a purely random classifier will have a ROC AUC equal to 0.5."
      ]
    },
    {
      "cell_type": "code",
      "metadata": {
        "id": "_gujd8yNTTcz",
        "colab_type": "code",
        "outputId": "e7c34a75-6ed5-4564-f8cb-a8a43e7762b5",
        "colab": {
          "base_uri": "https://localhost:8080/",
          "height": 34
        }
      },
      "source": [
        "from sklearn.metrics import roc_auc_score\n",
        "roc_auc_score(y_train_5, y_scores)"
      ],
      "execution_count": 0,
      "outputs": [
        {
          "output_type": "execute_result",
          "data": {
            "text/plain": [
              "0.9604938554008616"
            ]
          },
          "metadata": {
            "tags": []
          },
          "execution_count": 33
        }
      ]
    },
    {
      "cell_type": "markdown",
      "metadata": {
        "id": "eCzAjmlaTiyb",
        "colab_type": "text"
      },
      "source": [
        "Rule of thumb:\n",
        "\n",
        "* Prefer the precision/recall curve whenever the positive class is rare or when you care more about the false positives than the false negatives.\n",
        "\n",
        "* Otherwise, use the ROC curve\n",
        "\n",
        "Looking at the previous ROC curve and the ROC AUC score, you may think that the classifier is really good. But this is mostly because there are few positives (5s) compared to the negatives (non-5s). In contrast, the PR curve makes it clear that the classifier has room for improvement (the curve could be closer to the top-left corner)"
      ]
    },
    {
      "cell_type": "markdown",
      "metadata": {
        "id": "4yxQiU1BVfFA",
        "colab_type": "text"
      },
      "source": [
        "#### RandomForestClassifier vs SGDClassifier"
      ]
    },
    {
      "cell_type": "markdown",
      "metadata": {
        "id": "2rNDFUndVq2R",
        "colab_type": "text"
      },
      "source": [
        "RandomForestClassifier class does not have a decision_function() method. Instead, it has a predict_proba() method. Scikit-Learn classifiers generally have one or the other, or both. the predict_proba() method returns an array containing a row per instance and a column per class, each containing the probability that the given instance belongs to the given class (e.g., 70% chance that the image represents a 5):"
      ]
    },
    {
      "cell_type": "code",
      "metadata": {
        "id": "mg-P24aPWEFx",
        "colab_type": "code",
        "colab": {}
      },
      "source": [
        "# Let's train a RFC and compare its ROC and ROC AUC to a SGDClassifier\n",
        "from sklearn.ensemble import RandomForestClassifier\n",
        "\n",
        "forest_clf = RandomForestClassifier(random_state=42)\n",
        "y_probas_forest = cross_val_predict(forest_clf, X_train, y_train_5, cv=3,\n",
        "                                    method=\"predict_proba\")"
      ],
      "execution_count": 0,
      "outputs": []
    },
    {
      "cell_type": "markdown",
      "metadata": {
        "id": "AVfCgtSNWkmA",
        "colab_type": "text"
      },
      "source": [
        "The roc_curve() function expects labels and scores, but instead of scores you can give it class probabilities. Let's use the positive class's probability as the score:"
      ]
    },
    {
      "cell_type": "code",
      "metadata": {
        "id": "kExhW7IpWxoo",
        "colab_type": "code",
        "outputId": "805a3e22-6d5e-42f6-ed30-4305eb19180f",
        "colab": {
          "base_uri": "https://localhost:8080/",
          "height": 34
        }
      },
      "source": [
        "y_score_forest = y_probas_forest[:, 1] # probabilities of images being 5's (proba of positive class)\n",
        "print('RFC predicted cross validation probabilities of being 5\\'s', y_score_forest)\n",
        "fpr_forest, tpr_forest, thresholds_forest = roc_curve(y_train_5, y_score_forest)"
      ],
      "execution_count": 0,
      "outputs": [
        {
          "output_type": "stream",
          "text": [
            "RFC predicted cross validation labels [0.89 0.01 0.04 ... 0.98 0.08 0.06]\n"
          ],
          "name": "stdout"
        }
      ]
    },
    {
      "cell_type": "code",
      "metadata": {
        "id": "nXmmKq9JXTH5",
        "colab_type": "code",
        "outputId": "33e05b36-a6ec-4635-81fc-24fa6f0f9b24",
        "colab": {
          "base_uri": "https://localhost:8080/",
          "height": 265
        }
      },
      "source": [
        "plt.plot(fpr, tpr, 'b:', label=\"SGD\")\n",
        "plot_roc_curve(fpr_forest, tpr_forest, \"Random Forest\")\n",
        "plt.legend(loc=\"lower right\")\n",
        "plt.show()"
      ],
      "execution_count": 0,
      "outputs": [
        {
          "output_type": "display_data",
          "data": {
            "image/png": "[encoded data removed]",
            "text/plain": [
              "<Figure size 432x288 with 1 Axes>"
            ]
          },
          "metadata": {
            "tags": []
          }
        }
      ]
    },
    {
      "cell_type": "markdown",
      "metadata": {
        "id": "0nkx3QeIYMS-",
        "colab_type": "text"
      },
      "source": [
        "As we can see, the RandomForestClassifier's ROC curve looks much better than the SGDClassifier's: it comes much closer to the top-left corner. As a result, its ROC AUC score is also significantly better:"
      ]
    },
    {
      "cell_type": "code",
      "metadata": {
        "id": "wsrWxA8UYXNf",
        "colab_type": "code",
        "outputId": "d5174652-b38d-4997-a4e4-64ef68b4b524",
        "colab": {
          "base_uri": "https://localhost:8080/",
          "height": 34
        }
      },
      "source": [
        "roc_auc_score(y_train_5, y_score_forest)"
      ],
      "execution_count": 0,
      "outputs": [
        {
          "output_type": "execute_result",
          "data": {
            "text/plain": [
              "0.9983436731328145"
            ]
          },
          "metadata": {
            "tags": []
          },
          "execution_count": 37
        }
      ]
    },
    {
      "cell_type": "markdown",
      "metadata": {
        "id": "7PNhv2nfdOBb",
        "colab_type": "text"
      },
      "source": [
        "Let's look at the precision and recall of the RandomForestClassifier"
      ]
    },
    {
      "cell_type": "code",
      "metadata": {
        "id": "Krl_5af0cRy6",
        "colab_type": "code",
        "colab": {}
      },
      "source": [
        "precisions, recalls, thresholds = precision_recall_curve(y_train_5, y_score_forest)"
      ],
      "execution_count": 0,
      "outputs": []
    },
    {
      "cell_type": "code",
      "metadata": {
        "id": "qCuqhGbtcYe3",
        "colab_type": "code",
        "outputId": "67ca963b-6a53-4bcc-cbdb-de4d389729e9",
        "colab": {
          "base_uri": "https://localhost:8080/",
          "height": 265
        }
      },
      "source": [
        "plot_precision_recall_vs_threshold(precisions, recalls, thresholds)\n",
        "plt.show()"
      ],
      "execution_count": 0,
      "outputs": [
        {
          "output_type": "display_data",
          "data": {
            "image/png": "[encoded data removed]",
            "text/plain": [
              "<Figure size 432x288 with 1 Axes>"
            ]
          },
          "metadata": {
            "tags": []
          }
        }
      ]
    },
    {
      "cell_type": "code",
      "metadata": {
        "id": "sG90zDn0YbW0",
        "colab_type": "code",
        "outputId": "779e7da0-dd94-4d9e-931a-1e3f49bf3649",
        "colab": {
          "base_uri": "https://localhost:8080/",
          "height": 34
        }
      },
      "source": [
        "y_true = (y_score_forest >= 0.5)\n",
        "y_true"
      ],
      "execution_count": 0,
      "outputs": [
        {
          "output_type": "execute_result",
          "data": {
            "text/plain": [
              "array([ True, False, False, ...,  True, False, False])"
            ]
          },
          "metadata": {
            "tags": []
          },
          "execution_count": 40
        }
      ]
    },
    {
      "cell_type": "code",
      "metadata": {
        "id": "ibBZNIcQbqK9",
        "colab_type": "code",
        "outputId": "8d8b71b6-ac24-447f-e21a-e56605435f10",
        "colab": {
          "base_uri": "https://localhost:8080/",
          "height": 34
        }
      },
      "source": [
        "precision_score(y_train_5, y_true)"
      ],
      "execution_count": 0,
      "outputs": [
        {
          "output_type": "execute_result",
          "data": {
            "text/plain": [
              "0.9897468089558485"
            ]
          },
          "metadata": {
            "tags": []
          },
          "execution_count": 41
        }
      ]
    },
    {
      "cell_type": "code",
      "metadata": {
        "id": "nbDa6G5Bb6__",
        "colab_type": "code",
        "outputId": "50fdbf19-6e8d-43b6-a20e-4178d6043cfb",
        "colab": {
          "base_uri": "https://localhost:8080/",
          "height": 34
        }
      },
      "source": [
        "recall_score(y_train_5, y_true)"
      ],
      "execution_count": 0,
      "outputs": [
        {
          "output_type": "execute_result",
          "data": {
            "text/plain": [
              "0.8725327430363402"
            ]
          },
          "metadata": {
            "tags": []
          },
          "execution_count": 42
        }
      ]
    },
    {
      "cell_type": "markdown",
      "metadata": {
        "id": "IpAriU_yartv",
        "colab_type": "text"
      },
      "source": [
        "## Multiclass Classification\n"
      ]
    },
    {
      "cell_type": "markdown",
      "metadata": {
        "id": "L8l4XzLUawuW",
        "colab_type": "text"
      },
      "source": [
        "**Can distinguish between more than two classes**\n",
        "\n",
        "SGD, Random Forest and naive Bayes classifiers are capable of handling multiple classes natively.\n",
        "\n",
        "Others (such as Logistic Regression or Support Vector Machine classifiers) are strictly binary.\n",
        "However, there are various strategies that you can use to perform multiclass classification with multiple binary classifiers.\n",
        "\n",
        "* *One-versus-the-rest* (OvR) strategy (also called *one-versus-all*): \n",
        "  * Train N binary classifiers, one for each class. Then when you want to classify an image, you get the decision score from each classifier for that image and you select the class whose classifier outputs the highest score\n",
        "\n",
        "* *One-versus-one* (OvO) strategy: \n",
        "  * Train a binary classifier for every pair of digits: one to distinguish 0s and 1s, another to distinguish 0s and 2s, and so on. If there are N classes, you need to train N x (N-1) / 2 classifiers. When you want to classify an image, you have to run the image through all 45 classifiers and see which one wins the most duels. The main advantage of OvO is that each classifier only needs to be trained on the part of the training set for the two classes it must distinguish\n",
        "\n",
        "Some algorithms (such as SVM classifiers) scale poorly with the size of the training set. For these algorithms OvO is preferred because it is faster to train many classifiers on a small training set than to train a few classifiers on a large training set. For most binary classification algorithms, however, OvR is preffered"
      ]
    },
    {
      "cell_type": "markdown",
      "metadata": {
        "id": "LChIUuVopP-E",
        "colab_type": "text"
      },
      "source": [
        "### Binary Classifiers for Multiclass Classification"
      ]
    },
    {
      "cell_type": "markdown",
      "metadata": {
        "id": "nKYuwuj6enVL",
        "colab_type": "text"
      },
      "source": [
        "Scitkit-Learn detects when you try to use a binary classification algorithm for a multiclass classification task, and it automatically runs OvR or OvO for a multiclass classification task, and it automatically runs OvR or OvO, depending on the algorithm. Let's try this with a SVM classifier:"
      ]
    },
    {
      "cell_type": "code",
      "metadata": {
        "id": "BPRLEc32e7nJ",
        "colab_type": "code",
        "outputId": "0cf54226-0bba-4cd4-8c54-d2463b1682d5",
        "colab": {
          "base_uri": "https://localhost:8080/",
          "height": 34
        }
      },
      "source": [
        "from sklearn.svm import SVC\n",
        "svm_clf = SVC()\n",
        "svm_clf.fit(X_train, y_train)\n",
        "svm_clf.predict([some_digit])"
      ],
      "execution_count": 0,
      "outputs": [
        {
          "output_type": "execute_result",
          "data": {
            "text/plain": [
              "array([5], dtype=uint8)"
            ]
          },
          "metadata": {
            "tags": []
          },
          "execution_count": 43
        }
      ]
    },
    {
      "cell_type": "markdown",
      "metadata": {
        "id": "p1IcytJgfWOc",
        "colab_type": "text"
      },
      "source": [
        "Under the hood, Scikit-Learn actually used the OvO strategy: it trained 45 binary classifiers, got their decision scores for the image, and selected the class that won the most duels.\n",
        "\n",
        "If you call the decision_function() method, you will see that it return 10 scores per instance (instead of just 1). That's one score per class:"
      ]
    },
    {
      "cell_type": "code",
      "metadata": {
        "id": "PcqywnUXfpy2",
        "colab_type": "code",
        "outputId": "aaf5c140-57a5-45e4-c92f-a362cc2ec859",
        "colab": {
          "base_uri": "https://localhost:8080/",
          "height": 51
        }
      },
      "source": [
        "some_digit_scores = svm_clf.decision_function([some_digit])\n",
        "some_digit_scores"
      ],
      "execution_count": 0,
      "outputs": [
        {
          "output_type": "execute_result",
          "data": {
            "text/plain": [
              "array([[ 1.72501977,  2.72809088,  7.2510018 ,  8.3076379 , -0.31087254,\n",
              "         9.3132482 ,  1.70975103,  2.76765202,  6.23049537,  4.84771048]])"
            ]
          },
          "metadata": {
            "tags": []
          },
          "execution_count": 44
        }
      ]
    },
    {
      "cell_type": "markdown",
      "metadata": {
        "id": "gWxF_wDtlQwJ",
        "colab_type": "text"
      },
      "source": [
        "The highest score is indeed the one corresponding to class 5:"
      ]
    },
    {
      "cell_type": "code",
      "metadata": {
        "id": "sltFYtQulURI",
        "colab_type": "code",
        "outputId": "7ff4822e-a3e4-4519-b0c1-6ca2aeec49e2",
        "colab": {
          "base_uri": "https://localhost:8080/",
          "height": 34
        }
      },
      "source": [
        "np.argmax(some_digit_scores)"
      ],
      "execution_count": 0,
      "outputs": [
        {
          "output_type": "execute_result",
          "data": {
            "text/plain": [
              "5"
            ]
          },
          "metadata": {
            "tags": []
          },
          "execution_count": 45
        }
      ]
    },
    {
      "cell_type": "markdown",
      "metadata": {
        "id": "6soUaPaUlWa7",
        "colab_type": "text"
      },
      "source": [
        "When a classifier is trained, it sores the list of target classes in its classes_ attribute, order by value. In this case, the index of each class in the classes_ array conveniently matches the class itself, but in general that's not happening"
      ]
    },
    {
      "cell_type": "code",
      "metadata": {
        "id": "8olhCPGzlyIM",
        "colab_type": "code",
        "outputId": "c2336292-c72e-4941-bfd8-793d2c211f63",
        "colab": {
          "base_uri": "https://localhost:8080/",
          "height": 34
        }
      },
      "source": [
        "svm_clf.classes_"
      ],
      "execution_count": 0,
      "outputs": [
        {
          "output_type": "execute_result",
          "data": {
            "text/plain": [
              "array([0, 1, 2, 3, 4, 5, 6, 7, 8, 9], dtype=uint8)"
            ]
          },
          "metadata": {
            "tags": []
          },
          "execution_count": 46
        }
      ]
    },
    {
      "cell_type": "markdown",
      "metadata": {
        "id": "Otukq2CCl0l6",
        "colab_type": "text"
      },
      "source": [
        "If you want to use one-versus-one or one-versus-the-rest, you can use the OneVsOneClassifier or OneVsRestClassifier classes.\n",
        "\n",
        "Let's use the OvR strategy:"
      ]
    },
    {
      "cell_type": "code",
      "metadata": {
        "id": "wzhY37-6mIiK",
        "colab_type": "code",
        "outputId": "14976467-629b-4e6e-9ffa-8a851dab8c6b",
        "colab": {
          "base_uri": "https://localhost:8080/",
          "height": 34
        }
      },
      "source": [
        "from sklearn.multiclass import OneVsRestClassifier\n",
        "ovr_clf = OneVsRestClassifier(SVC())\n",
        "ovr_clf.fit(X_train, y_train)\n",
        "ovr_clf.predict([some_digit])"
      ],
      "execution_count": 0,
      "outputs": [
        {
          "output_type": "execute_result",
          "data": {
            "text/plain": [
              "array([5], dtype=uint8)"
            ]
          },
          "metadata": {
            "tags": []
          },
          "execution_count": 47
        }
      ]
    },
    {
      "cell_type": "code",
      "metadata": {
        "id": "JRE68-wNz1R8",
        "colab_type": "code",
        "outputId": "52546e57-4b19-446b-9226-dd58bf264f60",
        "colab": {
          "base_uri": "https://localhost:8080/",
          "height": 34
        }
      },
      "source": [
        "print(\"SVM CLF OvR estimators num\", len(ovr_clf.estimators_))"
      ],
      "execution_count": 0,
      "outputs": [
        {
          "output_type": "stream",
          "text": [
            "SVM CLF OvR estimators num 10\n"
          ],
          "name": "stdout"
        }
      ]
    },
    {
      "cell_type": "markdown",
      "metadata": {
        "id": "7hjFjeBfpHdZ",
        "colab_type": "text"
      },
      "source": [
        "### Multiclass Classifiers"
      ]
    },
    {
      "cell_type": "markdown",
      "metadata": {
        "id": "zQ67r94vpcpg",
        "colab_type": "text"
      },
      "source": [
        "Let's look at how the SGD Classifier performs"
      ]
    },
    {
      "cell_type": "code",
      "metadata": {
        "id": "-cB70zPwpgUx",
        "colab_type": "code",
        "outputId": "00ba934f-9502-4c9f-e064-b9d5842576d6",
        "colab": {
          "base_uri": "https://localhost:8080/",
          "height": 34
        }
      },
      "source": [
        "from sklearn.model_selection import cross_val_score\n",
        "\n",
        "sgd_clf.fit(X_train, y_train)\n",
        "cross_val_score(sgd_clf, X_train, y_train, cv=3, scoring=\"accuracy\")"
      ],
      "execution_count": 16,
      "outputs": [
        {
          "output_type": "execute_result",
          "data": {
            "text/plain": [
              "array([0.87365, 0.85835, 0.8689 ])"
            ]
          },
          "metadata": {
            "tags": []
          },
          "execution_count": 16
        }
      ]
    },
    {
      "cell_type": "markdown",
      "metadata": {
        "id": "m-7PKRAUpzsN",
        "colab_type": "text"
      },
      "source": [
        "It gets over 8% on all test folds.\n",
        "\n",
        "Let's scale the inputs and try again:"
      ]
    },
    {
      "cell_type": "code",
      "metadata": {
        "id": "c1B59ldZp6Ex",
        "colab_type": "code",
        "outputId": "55472162-d88e-4c95-9426-9e245a5a8498",
        "colab": {
          "base_uri": "https://localhost:8080/",
          "height": 34
        }
      },
      "source": [
        "from sklearn.preprocessing import StandardScaler\n",
        "scaler = StandardScaler()\n",
        "X_train_scaled = scaler.fit_transform(X_train.astype(np.float64))\n",
        "cross_val_score(sgd_clf, X_train_scaled, y_train, cv=3, scoring=\"accuracy\")"
      ],
      "execution_count": 17,
      "outputs": [
        {
          "output_type": "execute_result",
          "data": {
            "text/plain": [
              "array([0.8983, 0.891 , 0.9018])"
            ]
          },
          "metadata": {
            "tags": []
          },
          "execution_count": 17
        }
      ]
    },
    {
      "cell_type": "markdown",
      "metadata": {
        "id": "rXmOAKTFqONW",
        "colab_type": "text"
      },
      "source": [
        "### Error Analysis"
      ]
    },
    {
      "cell_type": "markdown",
      "metadata": {
        "id": "LTfyuPfoqUt-",
        "colab_type": "text"
      },
      "source": [
        "Let's analyze the types of errors the SGD Classifier makes\n",
        "\n",
        "* First, look at the confusion matrix. You need to make predictions using the cross_val_predict() function, then call the confusion_matrix() function."
      ]
    },
    {
      "cell_type": "code",
      "metadata": {
        "id": "RFpY9qI7qfCx",
        "colab_type": "code",
        "outputId": "6515e4ac-ee09-4d1f-9a38-09a513c0339b",
        "colab": {
          "base_uri": "https://localhost:8080/",
          "height": 187
        }
      },
      "source": [
        "from sklearn.model_selection import cross_val_predict\n",
        "from sklearn.metrics import confusion_matrix\n",
        "\n",
        "y_train_pred = cross_val_predict(sgd_clf, X_train_scaled, y_train, cv=3)\n",
        "conf_mx = confusion_matrix(y_train, y_train_pred)\n",
        "conf_mx"
      ],
      "execution_count": 20,
      "outputs": [
        {
          "output_type": "execute_result",
          "data": {
            "text/plain": [
              "array([[5577,    0,   22,    5,    8,   43,   36,    6,  225,    1],\n",
              "       [   0, 6400,   37,   24,    4,   44,    4,    7,  212,   10],\n",
              "       [  27,   27, 5220,   92,   73,   27,   67,   36,  378,   11],\n",
              "       [  22,   17,  117, 5227,    2,  203,   27,   40,  403,   73],\n",
              "       [  12,   14,   41,    9, 5182,   12,   34,   27,  347,  164],\n",
              "       [  27,   15,   30,  168,   53, 4444,   75,   14,  535,   60],\n",
              "       [  30,   15,   42,    3,   44,   97, 5552,    3,  131,    1],\n",
              "       [  21,   10,   51,   30,   49,   12,    3, 5684,  195,  210],\n",
              "       [  17,   63,   48,   86,    3,  126,   25,   10, 5429,   44],\n",
              "       [  25,   18,   30,   64,  118,   36,    1,  179,  371, 5107]])"
            ]
          },
          "metadata": {
            "tags": []
          },
          "execution_count": 20
        }
      ]
    },
    {
      "cell_type": "markdown",
      "metadata": {
        "id": "vp-7mRUxq9sl",
        "colab_type": "text"
      },
      "source": [
        "Let's plot it using Matplotlib's matshow() funtion:"
      ]
    },
    {
      "cell_type": "code",
      "metadata": {
        "id": "prnxr7AyrDLx",
        "colab_type": "code",
        "outputId": "e78e2847-63a9-46c3-b906-bed0dbdf38ff",
        "colab": {
          "base_uri": "https://localhost:8080/",
          "height": 275
        }
      },
      "source": [
        "plt.matshow(conf_mx, cmap=plt.cm.gray)\n",
        "plt.show()"
      ],
      "execution_count": 0,
      "outputs": [
        {
          "output_type": "display_data",
          "data": {
            "image/png": "[encoded data removed]",
            "text/plain": [
              "<Figure size 288x288 with 1 Axes>"
            ]
          },
          "metadata": {
            "tags": []
          }
        }
      ]
    },
    {
      "cell_type": "markdown",
      "metadata": {
        "id": "0IA6rGF8rHv6",
        "colab_type": "text"
      },
      "source": [
        "This confusion matrix looks pretty good, since most images are on the main diagonal, which means that they were classified correctly. The 5s look slightly darker than the other digit, which could mean that:\n",
        "\n",
        "* there are fewer images of 5s in the dataset or\n",
        "\n",
        "* the classifier does not perform as well on 5s as on other digits.\n",
        "\n",
        "We can verify that both are the case"
      ]
    },
    {
      "cell_type": "markdown",
      "metadata": {
        "id": "bydE4kDfHO17",
        "colab_type": "text"
      },
      "source": [
        "Let's focus the plot on the errors. First, we need to divide each value in the confusion matrix by the number of images in the corresponding class so that we can compare error rates instead of absolute numbers of errors (which would make abundant classes look unfairly bad):"
      ]
    },
    {
      "cell_type": "code",
      "metadata": {
        "id": "AXF_lfr-HpXg",
        "colab_type": "code",
        "colab": {}
      },
      "source": [
        "row_sums = conf_mx.sum(axis=1, keepdims=True)\n",
        "norm_conf_mx = conf_mx / row_sums"
      ],
      "execution_count": 0,
      "outputs": []
    },
    {
      "cell_type": "markdown",
      "metadata": {
        "id": "MPfvB5Y3HwnN",
        "colab_type": "text"
      },
      "source": [
        "Fill the diagonal with zeros to keep only the errors, and plot the result:"
      ]
    },
    {
      "cell_type": "code",
      "metadata": {
        "id": "T6N9MLUrH2lE",
        "colab_type": "code",
        "colab": {
          "base_uri": "https://localhost:8080/",
          "height": 275
        },
        "outputId": "f933b2c8-bf9c-4ae8-9968-5a0cbf087496"
      },
      "source": [
        "np.fill_diagonal(norm_conf_mx, 0)\n",
        "plt.matshow(norm_conf_mx, cmap=plt.cm.gray)\n",
        "plt.show()"
      ],
      "execution_count": 22,
      "outputs": [
        {
          "output_type": "display_data",
          "data": {
            "image/png": "[encoded data removed]",
            "text/plain": [
              "<Figure size 288x288 with 1 Axes>"
            ]
          },
          "metadata": {
            "tags": []
          }
        }
      ]
    },
    {
      "cell_type": "markdown",
      "metadata": {
        "id": "BQAokcUCIZCl",
        "colab_type": "text"
      },
      "source": [
        "We can clearly see the kinds of errors the classifier makes. The rows represent actual classes, while column represent predicted classes. The column for class 8 is quite bright, which tells us that many images get misclassified as 8s. However, the row for class 8 is not that bad, telling you that actual 8s in general get properly classified as 8s. As you can see, the confusion matrix is not necessarily symmetrical. You can also see that 3s ad 5s often get confused (in both direction)\n",
        "\n",
        "Analyzing the confusion matrix often gives insights into ways to improve classifiers. Looking at this plot, it seems that your efforts should be spent on reducing the false 8s."
      ]
    },
    {
      "cell_type": "markdown",
      "metadata": {
        "id": "FX9H2PC9Iy9t",
        "colab_type": "text"
      },
      "source": [
        "Analyzing individual errors can also be a good way to gain insights on what your classifier is doing and why it is failing but it is more difficult and time-consuming"
      ]
    },
    {
      "cell_type": "markdown",
      "metadata": {
        "id": "62RrAXBBJZMG",
        "colab_type": "text"
      },
      "source": [
        "## Multilabel Classification"
      ]
    },
    {
      "cell_type": "markdown",
      "metadata": {
        "id": "mJozUT0WJbul",
        "colab_type": "text"
      },
      "source": [
        "Until now each instance has always been assigned to just one class. In some cases you may want your classifier to output multiple classes for each instance. "
      ]
    },
    {
      "cell_type": "code",
      "metadata": {
        "id": "PZ0PNdJsJxCj",
        "colab_type": "code",
        "colab": {
          "base_uri": "https://localhost:8080/",
          "height": 68
        },
        "outputId": "85cb9a97-66cd-442e-aae9-e88f96f9be2d"
      },
      "source": [
        "from sklearn.neighbors import KNeighborsClassifier\n",
        "\n",
        "y_train_large = (y_train >= 7)\n",
        "y_train_odd = (y_train % 2 == 1)\n",
        "y_multilabel = np.c_[y_train_large, y_train_odd] # Translates slice objects to concatenation along the second axis.\n",
        "\n",
        "\n",
        "\n",
        "knn_clf = KNeighborsClassifier()\n",
        "knn_clf.fit(X_train, y_multilabel)"
      ],
      "execution_count": 25,
      "outputs": [
        {
          "output_type": "execute_result",
          "data": {
            "text/plain": [
              "KNeighborsClassifier(algorithm='auto', leaf_size=30, metric='minkowski',\n",
              "                     metric_params=None, n_jobs=None, n_neighbors=5, p=2,\n",
              "                     weights='uniform')"
            ]
          },
          "metadata": {
            "tags": []
          },
          "execution_count": 25
        }
      ]
    },
    {
      "cell_type": "code",
      "metadata": {
        "id": "czs2a6mQKYXK",
        "colab_type": "code",
        "colab": {
          "base_uri": "https://localhost:8080/",
          "height": 34
        },
        "outputId": "243cf601-3aa9-431a-f924-c8d4ef80cd9c"
      },
      "source": [
        "knn_clf.predict([some_digit])"
      ],
      "execution_count": 28,
      "outputs": [
        {
          "output_type": "execute_result",
          "data": {
            "text/plain": [
              "array([[False,  True]])"
            ]
          },
          "metadata": {
            "tags": []
          },
          "execution_count": 28
        }
      ]
    },
    {
      "cell_type": "markdown",
      "metadata": {
        "id": "KIzJK6tjKjBi",
        "colab_type": "text"
      },
      "source": [
        "The digit 5 is indeed not large (False) and odd (True).\n",
        "\n",
        "There are many ways to evaluate a multilabel classifier, and selecting the right metric really depends on your project. One approach is to measure the F1 score for each individual label (or any other binary classifier metric dicussed earlier), then simply compute the average score. This code computes the average F1 score across all labels:"
      ]
    },
    {
      "cell_type": "code",
      "metadata": {
        "id": "tb7RUgVuK8y0",
        "colab_type": "code",
        "colab": {}
      },
      "source": [
        "y_train_knn_pred = cross_val_predict(knn_clf, X_train, y_multilabel, cv=3)"
      ],
      "execution_count": 0,
      "outputs": []
    },
    {
      "cell_type": "code",
      "metadata": {
        "id": "3v_d_z_1c6Sj",
        "colab_type": "code",
        "colab": {
          "base_uri": "https://localhost:8080/",
          "height": 34
        },
        "outputId": "2822a9b0-2aed-4b3b-b294-6275f8841c45"
      },
      "source": [
        "from sklearn.metrics import f1_score\n",
        "\n",
        "f1_score(y_multilabel, y_train_knn_pred, average=\"macro\")"
      ],
      "execution_count": 30,
      "outputs": [
        {
          "output_type": "execute_result",
          "data": {
            "text/plain": [
              "0.976410265560605"
            ]
          },
          "metadata": {
            "tags": []
          },
          "execution_count": 30
        }
      ]
    },
    {
      "cell_type": "markdown",
      "metadata": {
        "id": "HHJ0Yu2zLRnE",
        "colab_type": "text"
      },
      "source": [
        "This assumes that all labels are equally important, however, which may not be the case. One simple option is to give each label a weight equal to its support (i.e., the number of instances with that target label). To do this, simply set average=\"weighted\" in the preceding code"
      ]
    },
    {
      "cell_type": "markdown",
      "metadata": {
        "id": "pTqgePDLLjNC",
        "colab_type": "text"
      },
      "source": [
        "## Multioutput Classification"
      ]
    },
    {
      "cell_type": "markdown",
      "metadata": {
        "id": "RE6JSZq9Ll3A",
        "colab_type": "text"
      },
      "source": [
        "It is simply a generalization of multilabel classification where each label can be multiclass (i.e., it can have more than two possible values)\n",
        "\n",
        "To illustrate this, let's build a system that removes noise from images. It will take as input a noisy digit image, and it will (hopefully) output a clean digit image, represented as an array of pixel intensities, just like the MNIST images. Notice that the classifier's output is multilabel (one label per pixel) and each label can have multiple values (pixel intensity ranges from 0 to 255). It is thus an example of a multioutput classification system\n",
        "\n",
        "The line between classification and regression is sometimes blurry, such as in this example. Arguably, predicting pixel intensity is more akin to regression than to classification."
      ]
    },
    {
      "cell_type": "code",
      "metadata": {
        "id": "Vi26coEDhGB8",
        "colab_type": "code",
        "colab": {}
      },
      "source": [
        "noise = np.random.randint(0, 100, (len(X_train), 784))\n",
        "X_train_mod = X_train + noise\n",
        "noise = np.random.randint(0, 100, (len(X_test), 784))\n",
        "X_test_mod = X_test + noise\n",
        "y_train_mod = X_train\n",
        "y_test_mod = X_test"
      ],
      "execution_count": 0,
      "outputs": []
    },
    {
      "cell_type": "markdown",
      "metadata": {
        "id": "3YCoeuIWiL7e",
        "colab_type": "text"
      },
      "source": [
        "Let's take a look"
      ]
    },
    {
      "cell_type": "code",
      "metadata": {
        "id": "Slgtknr6kB11",
        "colab_type": "code",
        "colab": {}
      },
      "source": [
        "def plot_digit(digit):\n",
        "  digit_image = digit.reshape(28, 28)\n",
        "  plt.imshow(digit_image, cmap=\"binary\")\n",
        "  plt.axis(\"off\")\n",
        "  plt.show()"
      ],
      "execution_count": 0,
      "outputs": []
    },
    {
      "cell_type": "code",
      "metadata": {
        "id": "LASbV2SWiX4m",
        "colab_type": "code",
        "colab": {
          "base_uri": "https://localhost:8080/",
          "height": 479
        },
        "outputId": "1aa8c19e-8d0f-4638-a4a9-f8821dbd561d"
      },
      "source": [
        "import matplotlib as mpl\n",
        "import matplotlib.pyplot as plt\n",
        "\n",
        "knn_clf.fit(X_train_mod, y_train_mod)\n",
        "clean_digit = knn_clf.predict([X_test_mod[4]])\n",
        "plot_digit(X_test_mod[4])\n",
        "plot_digit(clean_digit)"
      ],
      "execution_count": 50,
      "outputs": [
        {
          "output_type": "display_data",
          "data": {
            "image/png": "[encoded data removed]",
            "text/plain": [
              "<Figure size 432x288 with 1 Axes>"
            ]
          },
          "metadata": {
            "tags": []
          }
        },
        {
          "output_type": "display_data",
          "data": {
            "image/png": "[encoded data removed]",
            "text/plain": [
              "<Figure size 432x288 with 1 Axes>"
            ]
          },
          "metadata": {
            "tags": []
          }
        }
      ]
    }
  ]
}